{
 "cells": [
  {
   "cell_type": "code",
   "execution_count": 147,
   "id": "caed2b97-9c88-4f42-a929-fcc246f9ea22",
   "metadata": {},
   "outputs": [
    {
     "data": {
      "text/plain": [
       "'C:\\\\Users\\\\campus4D035\\\\Desktop\\\\ml_team\\\\model\\\\data\\\\20남성'"
      ]
     },
     "execution_count": 147,
     "metadata": {},
     "output_type": "execute_result"
    }
   ],
   "source": [
    "import os\n",
    "import pandas as pd \n",
    "import numpy as np\n",
    "import seaborn as sns\n",
    "import matplotlib.pyplot as plt\n",
    "import warnings\n",
    "warnings.filterwarnings('ignore')\n",
    "plt.rcParams['font.family']='Malgun Gothic'\n",
    "\n",
    "os.getcwd()"
   ]
  },
  {
   "cell_type": "code",
   "execution_count": 149,
   "id": "2074e4d5-6376-4e0a-843a-7b69fdd306a3",
   "metadata": {},
   "outputs": [
    {
     "data": {
      "text/plain": [
       "['20남성',\n",
       " 'cardio_train.csv',\n",
       " 'Chronic_Kidney_Dsease_data.csv',\n",
       " 'data.CSV',\n",
       " 'Kaggle',\n",
       " 'kidney_disease_dataset.csv',\n",
       " 'model',\n",
       " 'not_cholesterol.csv',\n",
       " 'under24_man_kmeans_model.pkl',\n",
       " '이상지질혈증_검사대상자.csv',\n",
       " '이상지질혈증_검사대상자_모델.pkl']"
      ]
     },
     "execution_count": 149,
     "metadata": {},
     "output_type": "execute_result"
    }
   ],
   "source": [
    "os.chdir('../')\n",
    "os.listdir()"
   ]
  },
  {
   "cell_type": "code",
   "execution_count": 150,
   "id": "7bc1d69f-4f2f-47dd-be49-0032036fb6aa",
   "metadata": {},
   "outputs": [],
   "source": [
    "df = pd.read_csv(os.listdir()[3], encoding='cp949') "
   ]
  },
  {
   "cell_type": "code",
   "execution_count": 72,
   "id": "db80b0cd-c1e0-482d-b02a-e4a486817253",
   "metadata": {},
   "outputs": [],
   "source": [
    "df=df[[ '성별코드', '연령대코드(5세단위)', '신장(5cm단위)',\n",
    "       '체중(5kg단위)', '허리둘레',  '수축기혈압',\n",
    "       '이완기혈압', '식전혈당(공복혈당)', '총콜레스테롤', '트리글리세라이드', 'HDL콜레스테롤', 'LDL콜레스테롤',\n",
    "       '혈색소', '요단백', '혈청크레아티닌', '혈청지오티(AST)', '혈청지피티(ALT)', '감마지티피', '흡연상태',\n",
    "       '음주여부']]"
   ]
  },
  {
   "cell_type": "code",
   "execution_count": 73,
   "id": "6f509028-c316-44f8-a5f0-5cbb9c0ed719",
   "metadata": {},
   "outputs": [
    {
     "data": {
      "text/plain": [
       "(14288, 20)"
      ]
     },
     "execution_count": 73,
     "metadata": {},
     "output_type": "execute_result"
    }
   ],
   "source": [
    "cond = (df['성별코드']==1)&(df['연령대코드(5세단위)']<=5)\n",
    "df = df[cond]\n",
    "\n",
    "df.shape"
   ]
  },
  {
   "cell_type": "code",
   "execution_count": 74,
   "id": "66fa0bfb-b609-4012-9312-abc771437b61",
   "metadata": {},
   "outputs": [],
   "source": [
    "cond = df[['총콜레스테롤', '트리글리세라이드', 'HDL콜레스테롤', 'LDL콜레스테롤']].isna().any(axis=1)\n",
    "df = df[cond]"
   ]
  },
  {
   "cell_type": "code",
   "execution_count": 75,
   "id": "bcce52c6-9780-4846-98e4-735e69af9b2f",
   "metadata": {},
   "outputs": [
    {
     "data": {
      "text/plain": [
       "(8261, 16)"
      ]
     },
     "execution_count": 75,
     "metadata": {},
     "output_type": "execute_result"
    }
   ],
   "source": [
    "df = df.drop(columns=['총콜레스테롤', '트리글리세라이드', 'HDL콜레스테롤', 'LDL콜레스테롤'])\n",
    "df=df.dropna()\n",
    "\n",
    "df.shape"
   ]
  },
  {
   "cell_type": "code",
   "execution_count": 76,
   "id": "a4ebede5-a45b-46d6-a780-d2a9cbf53854",
   "metadata": {},
   "outputs": [],
   "source": [
    "df.columns=['성별', '연령대', '키', '체중', '허리둘레', '수축기혈압', '이완기혈압', '공복혈당',\n",
    "            '혈색소', '요단백', '혈청크레아티닌',\n",
    "       '혈청지오티(AST)', '혈청지피티(ALT)', '감마지티피', '흡연상태', '음주여부']\n",
    "\n",
    "df['성별'] = df['성별'].map({1:0, 2:1})"
   ]
  },
  {
   "cell_type": "code",
   "execution_count": 77,
   "id": "e9313647-9ea0-4eb5-9290-0cce3312dab0",
   "metadata": {},
   "outputs": [
    {
     "data": {
      "text/html": [
       "<div>\n",
       "<style scoped>\n",
       "    .dataframe tbody tr th:only-of-type {\n",
       "        vertical-align: middle;\n",
       "    }\n",
       "\n",
       "    .dataframe tbody tr th {\n",
       "        vertical-align: top;\n",
       "    }\n",
       "\n",
       "    .dataframe thead th {\n",
       "        text-align: right;\n",
       "    }\n",
       "</style>\n",
       "<table border=\"1\" class=\"dataframe\">\n",
       "  <thead>\n",
       "    <tr style=\"text-align: right;\">\n",
       "      <th>연령대</th>\n",
       "      <th>5</th>\n",
       "    </tr>\n",
       "    <tr>\n",
       "      <th>성별</th>\n",
       "      <th></th>\n",
       "    </tr>\n",
       "  </thead>\n",
       "  <tbody>\n",
       "    <tr>\n",
       "      <th>0</th>\n",
       "      <td>8261</td>\n",
       "    </tr>\n",
       "  </tbody>\n",
       "</table>\n",
       "</div>"
      ],
      "text/plain": [
       "연령대     5\n",
       "성별       \n",
       "0    8261"
      ]
     },
     "execution_count": 77,
     "metadata": {},
     "output_type": "execute_result"
    }
   ],
   "source": [
    "pd.crosstab(index=df['성별'], columns=df['연령대'])"
   ]
  },
  {
   "cell_type": "code",
   "execution_count": 78,
   "id": "06d60dc3-dd37-4f62-b737-64fc4258478d",
   "metadata": {},
   "outputs": [],
   "source": [
    "# bmi추가\n",
    "# 파생변수 bmi 생성 :  질병관리청 근거\n",
    "def bmi_category(bmi):\n",
    "    if bmi < 18.5:\n",
    "        return 1 #'저체중'\n",
    "    elif bmi < 23:\n",
    "        return 2 #'정상'\n",
    "    elif bmi < 25:\n",
    "        return 3 #'비만전단계'\n",
    "    elif bmi < 30:\n",
    "        return 4 #'비만1단계'\n",
    "    elif bmi < 35:\n",
    "        return 5 #'비만2단계'\n",
    "    else:\n",
    "        return 6 #'비만3단계'\n",
    "\n",
    "df['BMI'] = df['체중'] / ((df['키'] / 100) ** 2)\n",
    "df['BMI구분'] = df['BMI'].apply(bmi_category)\n",
    "#df = df.drop(columns='BMI',axis=1)\n",
    "\n",
    "# 입력오류 추정 인스턴스 삭제\n",
    "cond1= df['허리둘레']==999\n",
    "\n",
    "df = df.drop(index=df[cond1].index, axis=0).reset_index(drop=True)\n",
    "\n",
    "# 값이 하나 뚝 떨어져있어서 제외\n",
    "cond2= df['혈청크레아티닌']==25.0\n",
    "df = df.drop(index=df[cond1|cond2].index, axis=0).reset_index(drop=True)\n",
    "\n",
    "# 연령대 그룹 코드별 중앙 나이 추정값 매핑\n",
    "연령대_중앙값 = {\n",
    "    1: 2, 2: 7, 3: 12, 4: 17, 5: 22,\n",
    "    6: 27, 7: 32, 8: 37, 9: 42,\n",
    "    10: 47, 11: 52, 12: 57, 13: 62,\n",
    "    14: 67, 15: 72, 16: 77, 17: 82, 18: 87\n",
    "}\n",
    "\n",
    "def 사구체여과율(row):\n",
    "    creatinine = row['혈청크레아티닌']\n",
    "    group_code = row['연령대']\n",
    "\n",
    "    # 연령대 매핑 확인\n",
    "    if group_code not in 연령대_중앙값:\n",
    "        return np.nan  # 알 수 없는 연령대면 NaN\n",
    "\n",
    "    age = 연령대_중앙값[group_code]\n",
    "    sex_factor = 0.742 if row['성별'] == 1 else 1  # 여성=1, 남성=0\n",
    "\n",
    "    # MDRD 공식 계산\n",
    "    egfr = 186 * (creatinine ** -1.154) * (age ** -0.203) * sex_factor\n",
    "    return egfr\n",
    "\n",
    "df['사구체여과율']= df.apply(사구체여과율, axis=1)\n",
    "\n",
    "\n",
    "def 신장질환판단(row):\n",
    "    gap = row['사구체여과율']\n",
    "    if gap>=90: return '정상'\n",
    "    elif gap>=60: return '신장기능 감소 시작'\n",
    "    elif gap>=30: return '신장기능이 더욱 감소' \n",
    "    elif gap>=15: return '생명만 유지할 수준' \n",
    "    else : return '신장 이식 필요'\n",
    "df['신장질환군']=df.apply(신장질환판단, axis=1)\n",
    "df['신장질환군'].value_counts()\n",
    "# [정상, 신장기능 감소 시작,신장기능이 더욱 감소,생명만 유지할 수준,신장 이식 필요]\n",
    "\n",
    "# 신장질환은 사구체여과율, 요단백, 혈청크레아티닌 근거로 함\n",
    "# 요단백은  전날 고지방식 육식, 고당질의 음식 등 식이적인 요인과 격렬한 운동, 급격한 스트레스 등으로 인해서도 양성반응을 보일 수 있으므로 제외함\n",
    "# 요단백은 변수가 크다고 판단하였음\n",
    "\n",
    "def 간질환판단(row):\n",
    "    ast = row['혈청지오티(AST)']\n",
    "    alt = row['혈청지피티(ALT)']\n",
    "    gtp = row['감마지티피']\n",
    "\n",
    "    # 간 효소 중 1개라도 정상 범위 초과 시 간기능 이상 의심\n",
    "    if ast >= 40 or alt >= 40 or gtp > (63 if row['성별'] == 0 else 35):\n",
    "        return 1  # 이상\n",
    "    else:\n",
    "        return 0  # 정상\n",
    "        \n",
    "df['간질환군']=df.apply(간질환판단, axis=1)\n",
    "df['간질환군'].value_counts()\n",
    "\n",
    "# 보건소 근거\n",
    "# 고혈압 합병증 : 뇌, 신장, 눈, 심\n",
    "\n",
    "def 혈압판단(row):\n",
    "    수축기 = row['수축기혈압']\n",
    "    이완기 = row['이완기혈압']\n",
    "\n",
    "    if 수축기 >= 140 or 이완기 >= 90:\n",
    "        return '고혈압 의심'\n",
    "    elif 수축기 >= 120 or 이완기 >= 80:\n",
    "        return '고혈압 전단계'\n",
    "    else:\n",
    "        return '정상 혈압'\n",
    "\n",
    "df['고혈압군'] = df.apply(혈압판단, axis=1)\n",
    "df['고혈압군'].value_counts()\n",
    "\n",
    "def 빈혈판단(row):\n",
    "    hb = row['혈색소']\n",
    "    gender = row['성별']\n",
    "\n",
    "    if gender == 0:\n",
    "        return 0 if 16.5>=hb >= 13 else 1\n",
    "    elif gender == 1:\n",
    "        return 0 if 15.5>=hb >= 12 else 1\n",
    "    else:\n",
    "        return '성별 오류'\n",
    "df['빈혈군'] = df.apply(빈혈판단, axis=1)\n",
    "df['빈혈군'].value_counts()\n",
    "\n",
    "def 당뇨판단(row):\n",
    "    혈당 = row['공복혈당']\n",
    "    if 혈당>=126: return '당뇨병 의심'\n",
    "    if 혈당 >= 100: return '공복혈당장애 의심'\n",
    "    else : return '정상혈당'\n",
    "\n",
    "df['당뇨군'] = df.apply(당뇨판단, axis=1)\n",
    "df['당뇨군'].value_counts()\n",
    "\n",
    "# #['정상혈당','공복혈당장애 의심','당뇨병 의심']\n",
    "\n",
    "# def 이상지질혈증판단(row):\n",
    "#     if (\n",
    "#         row['총콜레스테롤'] > 250 or\n",
    "#         row['총콜레스테롤'] < 150 or\n",
    "#         row['HDL콜레스테롤'] > 65 or\n",
    "#         row['HDL콜레스테롤'] < 30  or\n",
    "#         row['트리글리세라이드'] > 135 or\n",
    "#         row['트리글리세라이드'] < 30 or\n",
    "#         row['LDL콜레스테롤'] >= 170\n",
    "#     ):\n",
    "#         return 1  # 이상지질혈증 의심\n",
    "#     else:\n",
    "#         return 0  # 정상\n",
    "\n",
    "# df['이상지질혈증군'] = df.apply(이상지질혈증판단, axis=1)\n",
    "# df['이상지질혈증군'].value_counts()\n",
    "\n",
    "def categorize_age(age):\n",
    "    if age in [5, 6]:\n",
    "        return '20대'\n",
    "    elif age in [7, 8]:\n",
    "        return '30대'\n",
    "    elif age in [9, 10]:\n",
    "        return '40대'\n",
    "    elif age in [11, 12]:\n",
    "        return '50대'\n",
    "    elif age in [1, 2, 3, 4]:\n",
    "        return '미성년자'\n",
    "    else:\n",
    "        return '60대이상'\n",
    "\n",
    "df['연령대'] = df['연령대'].map(categorize_age)\n",
    "\n",
    "# 허리둘레 480cm 제거 -> 최댓값 160cm\n",
    "# 공복혈당 500, 600은 당뇨 환자에게 관측되는 수치로 700 이상 제거\n",
    "cond1 = df['허리둘레'] == 480\n",
    "cond2 = df['공복혈당'] > 700\n",
    "cond3 = df['혈청크레아티닌'] > 350\n",
    "cond4 = df['혈청지오티(AST)'] > 3000\n",
    "cond5 = df['혈청지피티(ALT)'] > 5000\n",
    "cond6 = df['감마지티피'] > 8000\n",
    "\n",
    "# 콜레스테롤 측정 안 된 집단과 공통된 기준 또는 분포에서 너무 떨어진 값만 제거 \n",
    "\n",
    "df = df[~(cond1 | cond2 | cond3 | cond4 | cond5 | cond6)]\n"
   ]
  },
  {
   "cell_type": "code",
   "execution_count": 84,
   "id": "bc04820b-b9d3-4368-813d-29cde5edb3fc",
   "metadata": {},
   "outputs": [],
   "source": [
    "df = df.drop(columns='성별')"
   ]
  },
  {
   "cell_type": "code",
   "execution_count": 85,
   "id": "ac2e0bf0-01d3-4364-af19-6a646844e47a",
   "metadata": {},
   "outputs": [],
   "source": [
    "df = df.drop(columns='연령대')"
   ]
  },
  {
   "cell_type": "code",
   "execution_count": 86,
   "id": "5e14b68e-5f2a-4ff2-b71c-ad7c9c36cb67",
   "metadata": {},
   "outputs": [
    {
     "name": "stdout",
     "output_type": "stream",
     "text": [
      "키 : [175 185 180 170 165 160 190 155 150 135 195 140 145 130]\n",
      "요단백 : [1. 2. 3. 4. 6. 5.]\n",
      "혈청크레아티닌 : [1.2 0.9 1.  0.7 0.5 1.1 0.8 1.3 1.5 1.4 0.6 0.4 2.  0.3 1.8 1.6]\n",
      "흡연상태 : [3. 1. 2.]\n",
      "음주여부 : [1. 0.]\n",
      "BMI구분 : [3 2 4 5 6 1]\n",
      "사구체여과율 : [ 80.46851413 112.15155102  99.31186553 149.88494118 220.99871832\n",
      "  88.96803147 128.4799311   73.3686472   62.20020658  67.35492965\n",
      " 179.06660391 285.90642165  44.62852414 398.47695686  50.39839072\n",
      "  57.73599837]\n",
      "신장질환군 : ['신장기능 감소 시작' '정상' '신장기능이 더욱 감소']\n",
      "간질환군 : [0 1]\n",
      "고혈압군 : ['정상 혈압' '고혈압 전단계' '고혈압 의심']\n",
      "빈혈군 : [0 1]\n",
      "당뇨군 : ['정상혈당' '당뇨병 의심' '공복혈당장애 의심']\n",
      "cluster : [1 0]\n"
     ]
    }
   ],
   "source": [
    "scale_col = []\n",
    "for col in df.columns:\n",
    "    if df[col].nunique()<20:\n",
    "        if df[col].nunique() >2:\n",
    "            scale_col.append(col)\n",
    "        print(col,':',df[col].unique())\n",
    "    else : scale_col.append(col)"
   ]
  },
  {
   "cell_type": "code",
   "execution_count": 87,
   "id": "26c3adda-8315-4ff2-9ccb-dc1d99a021fc",
   "metadata": {},
   "outputs": [],
   "source": [
    "from sklearn.preprocessing import OrdinalEncoder\n",
    "\n",
    "# 인코딩 대상 컬럼\n",
    "ordinal_cols = ['요단백', '흡연상태', 'BMI구분', '신장질환군', '고혈압군', '당뇨군']\n",
    "\n",
    "ordinal_categories = [                      # 연령대\n",
    "    [1., 2., 3., 4., 5., 6.],                                           # 요단백\n",
    "    [1., 2., 3.],                                                       # 흡연상태\n",
    "    [1, 2, 3, 4, 5, 6],                                                 # BMI구분\n",
    "    ['정상', '신장기능 감소 시작', '신장기능이 더욱 감소', '생명만 유지할 수준', '신장 이식 필요'],  # 신장질환군\n",
    "    ['정상 혈압', '고혈압 전단계', '고혈압 의심'],                         # 고혈압군\n",
    "    ['정상혈당', '공복혈당장애 의심', '당뇨병 의심']                       # 당뇨군\n",
    "]\n",
    "\n",
    "# 오디너리 인코더 적용\n",
    "encoder = OrdinalEncoder(categories=ordinal_categories)\n",
    "df[ordinal_cols] = encoder.fit_transform(df[ordinal_cols])"
   ]
  },
  {
   "cell_type": "code",
   "execution_count": 88,
   "id": "df8c2bf8-199f-42b7-bffb-9b2167ab3d12",
   "metadata": {},
   "outputs": [
    {
     "data": {
      "text/html": [
       "<div>\n",
       "<style scoped>\n",
       "    .dataframe tbody tr th:only-of-type {\n",
       "        vertical-align: middle;\n",
       "    }\n",
       "\n",
       "    .dataframe tbody tr th {\n",
       "        vertical-align: top;\n",
       "    }\n",
       "\n",
       "    .dataframe thead th {\n",
       "        text-align: right;\n",
       "    }\n",
       "</style>\n",
       "<table border=\"1\" class=\"dataframe\">\n",
       "  <thead>\n",
       "    <tr style=\"text-align: right;\">\n",
       "      <th></th>\n",
       "      <th>키</th>\n",
       "      <th>체중</th>\n",
       "      <th>허리둘레</th>\n",
       "      <th>수축기혈압</th>\n",
       "      <th>이완기혈압</th>\n",
       "      <th>공복혈당</th>\n",
       "      <th>혈색소</th>\n",
       "      <th>요단백</th>\n",
       "      <th>혈청크레아티닌</th>\n",
       "      <th>혈청지오티(AST)</th>\n",
       "      <th>...</th>\n",
       "      <th>음주여부</th>\n",
       "      <th>BMI</th>\n",
       "      <th>BMI구분</th>\n",
       "      <th>사구체여과율</th>\n",
       "      <th>신장질환군</th>\n",
       "      <th>간질환군</th>\n",
       "      <th>고혈압군</th>\n",
       "      <th>빈혈군</th>\n",
       "      <th>당뇨군</th>\n",
       "      <th>cluster</th>\n",
       "    </tr>\n",
       "  </thead>\n",
       "  <tbody>\n",
       "    <tr>\n",
       "      <th>0</th>\n",
       "      <td>0.482225</td>\n",
       "      <td>0.167344</td>\n",
       "      <td>-0.460927</td>\n",
       "      <td>-0.875960</td>\n",
       "      <td>-0.256025</td>\n",
       "      <td>0.288175</td>\n",
       "      <td>-0.642629</td>\n",
       "      <td>-0.260831</td>\n",
       "      <td>1.751698</td>\n",
       "      <td>0.094732</td>\n",
       "      <td>...</td>\n",
       "      <td>1.0</td>\n",
       "      <td>0.015159</td>\n",
       "      <td>0.006303</td>\n",
       "      <td>-1.373312</td>\n",
       "      <td>1.930282</td>\n",
       "      <td>0</td>\n",
       "      <td>-0.986318</td>\n",
       "      <td>0</td>\n",
       "      <td>-0.421896</td>\n",
       "      <td>1</td>\n",
       "    </tr>\n",
       "    <tr>\n",
       "      <th>1</th>\n",
       "      <td>2.052140</td>\n",
       "      <td>0.167344</td>\n",
       "      <td>0.057809</td>\n",
       "      <td>-0.203933</td>\n",
       "      <td>-1.019296</td>\n",
       "      <td>-0.332153</td>\n",
       "      <td>-0.005795</td>\n",
       "      <td>-0.260831</td>\n",
       "      <td>-0.222218</td>\n",
       "      <td>-0.220715</td>\n",
       "      <td>...</td>\n",
       "      <td>1.0</td>\n",
       "      <td>-0.519418</td>\n",
       "      <td>-0.794732</td>\n",
       "      <td>0.041388</td>\n",
       "      <td>-0.515808</td>\n",
       "      <td>0</td>\n",
       "      <td>-0.986318</td>\n",
       "      <td>0</td>\n",
       "      <td>-0.421896</td>\n",
       "      <td>1</td>\n",
       "    </tr>\n",
       "    <tr>\n",
       "      <th>2</th>\n",
       "      <td>1.267183</td>\n",
       "      <td>-0.150237</td>\n",
       "      <td>-0.331243</td>\n",
       "      <td>-0.875960</td>\n",
       "      <td>-0.256025</td>\n",
       "      <td>0.150324</td>\n",
       "      <td>0.418762</td>\n",
       "      <td>-0.260831</td>\n",
       "      <td>0.435754</td>\n",
       "      <td>-0.310842</td>\n",
       "      <td>...</td>\n",
       "      <td>1.0</td>\n",
       "      <td>-0.583515</td>\n",
       "      <td>-0.794732</td>\n",
       "      <td>-0.531925</td>\n",
       "      <td>-0.515808</td>\n",
       "      <td>0</td>\n",
       "      <td>-0.986318</td>\n",
       "      <td>0</td>\n",
       "      <td>-0.421896</td>\n",
       "      <td>1</td>\n",
       "    </tr>\n",
       "    <tr>\n",
       "      <th>3</th>\n",
       "      <td>0.482225</td>\n",
       "      <td>0.167344</td>\n",
       "      <td>-0.028647</td>\n",
       "      <td>-0.371939</td>\n",
       "      <td>-0.146986</td>\n",
       "      <td>0.494951</td>\n",
       "      <td>-1.279464</td>\n",
       "      <td>-0.260831</td>\n",
       "      <td>-1.538162</td>\n",
       "      <td>-0.671353</td>\n",
       "      <td>...</td>\n",
       "      <td>1.0</td>\n",
       "      <td>0.015159</td>\n",
       "      <td>0.006303</td>\n",
       "      <td>1.726247</td>\n",
       "      <td>-0.515808</td>\n",
       "      <td>0</td>\n",
       "      <td>-0.986318</td>\n",
       "      <td>0</td>\n",
       "      <td>-0.421896</td>\n",
       "      <td>1</td>\n",
       "    </tr>\n",
       "    <tr>\n",
       "      <th>4</th>\n",
       "      <td>-0.302733</td>\n",
       "      <td>-1.102981</td>\n",
       "      <td>-0.633839</td>\n",
       "      <td>0.048077</td>\n",
       "      <td>0.507246</td>\n",
       "      <td>-0.194302</td>\n",
       "      <td>-0.642629</td>\n",
       "      <td>-0.260831</td>\n",
       "      <td>-2.854106</td>\n",
       "      <td>-0.040460</td>\n",
       "      <td>...</td>\n",
       "      <td>1.0</td>\n",
       "      <td>-1.117637</td>\n",
       "      <td>-0.794732</td>\n",
       "      <td>4.901595</td>\n",
       "      <td>-0.515808</td>\n",
       "      <td>0</td>\n",
       "      <td>0.702381</td>\n",
       "      <td>0</td>\n",
       "      <td>-0.421896</td>\n",
       "      <td>1</td>\n",
       "    </tr>\n",
       "  </tbody>\n",
       "</table>\n",
       "<p>5 rows × 23 columns</p>\n",
       "</div>"
      ],
      "text/plain": [
       "          키        체중      허리둘레     수축기혈압     이완기혈압      공복혈당       혈색소  \\\n",
       "0  0.482225  0.167344 -0.460927 -0.875960 -0.256025  0.288175 -0.642629   \n",
       "1  2.052140  0.167344  0.057809 -0.203933 -1.019296 -0.332153 -0.005795   \n",
       "2  1.267183 -0.150237 -0.331243 -0.875960 -0.256025  0.150324  0.418762   \n",
       "3  0.482225  0.167344 -0.028647 -0.371939 -0.146986  0.494951 -1.279464   \n",
       "4 -0.302733 -1.102981 -0.633839  0.048077  0.507246 -0.194302 -0.642629   \n",
       "\n",
       "        요단백   혈청크레아티닌  혈청지오티(AST)  ...  음주여부       BMI     BMI구분    사구체여과율  \\\n",
       "0 -0.260831  1.751698    0.094732  ...   1.0  0.015159  0.006303 -1.373312   \n",
       "1 -0.260831 -0.222218   -0.220715  ...   1.0 -0.519418 -0.794732  0.041388   \n",
       "2 -0.260831  0.435754   -0.310842  ...   1.0 -0.583515 -0.794732 -0.531925   \n",
       "3 -0.260831 -1.538162   -0.671353  ...   1.0  0.015159  0.006303  1.726247   \n",
       "4 -0.260831 -2.854106   -0.040460  ...   1.0 -1.117637 -0.794732  4.901595   \n",
       "\n",
       "      신장질환군  간질환군      고혈압군  빈혈군       당뇨군  cluster  \n",
       "0  1.930282     0 -0.986318    0 -0.421896        1  \n",
       "1 -0.515808     0 -0.986318    0 -0.421896        1  \n",
       "2 -0.515808     0 -0.986318    0 -0.421896        1  \n",
       "3 -0.515808     0 -0.986318    0 -0.421896        1  \n",
       "4 -0.515808     0  0.702381    0 -0.421896        1  \n",
       "\n",
       "[5 rows x 23 columns]"
      ]
     },
     "execution_count": 88,
     "metadata": {},
     "output_type": "execute_result"
    }
   ],
   "source": [
    "from sklearn.preprocessing import StandardScaler\n",
    "\n",
    "scaler = StandardScaler()\n",
    "df[scale_col] = scaler.fit_transform(df[scale_col])\n",
    "df.head()"
   ]
  },
  {
   "cell_type": "code",
   "execution_count": 89,
   "id": "8e1b29d9-073a-457e-bf25-31eaa8e057a4",
   "metadata": {},
   "outputs": [
    {
     "data": {
      "text/plain": [
       "Index(['키', '체중', '허리둘레', '수축기혈압', '이완기혈압', '공복혈당', '혈색소', '요단백', '혈청크레아티닌',\n",
       "       '혈청지오티(AST)', '혈청지피티(ALT)', '감마지티피', '흡연상태', '음주여부', 'BMI', 'BMI구분',\n",
       "       '사구체여과율', '신장질환군', '간질환군', '고혈압군', '빈혈군', '당뇨군', 'cluster'],\n",
       "      dtype='object')"
      ]
     },
     "execution_count": 89,
     "metadata": {},
     "output_type": "execute_result"
    }
   ],
   "source": [
    "df.columns"
   ]
  },
  {
   "cell_type": "code",
   "execution_count": 90,
   "id": "9f857f54-24c2-4827-b611-455773e49231",
   "metadata": {},
   "outputs": [],
   "source": [
    "col=[ '허리둘레', '수축기혈압', '이완기혈압', '공복혈당', '혈색소', '요단백', '혈청크레아티닌',\n",
    "       '혈청지오티(AST)', '혈청지피티(ALT)', '감마지티피', '흡연상태', '음주여부', 'BMI',\n",
    "       '사구체여과율']\n",
    "     \n",
    "df1=df[col]"
   ]
  },
  {
   "cell_type": "code",
   "execution_count": 107,
   "id": "9c4fd1b9-66f6-4950-9c4e-f996faf7b4a4",
   "metadata": {},
   "outputs": [
    {
     "data": {
      "image/png": "[encoded data removed]",
      "text/plain": [
       "<Figure size 640x480 with 1 Axes>"
      ]
     },
     "metadata": {},
     "output_type": "display_data"
    }
   ],
   "source": [
    "from sklearn.cluster import KMeans \n",
    "from sklearn.decomposition import PCA\n",
    "\n",
    "# PCA (2차원으로 줄이기)\n",
    "pca = PCA(n_components=2)\n",
    "X_pca = pca.fit_transform(df1)\n",
    "\n",
    "# ▶ 5. KMeans 클러스터링 (클러스터 수는 예시로 3개)\n",
    "hy=[]\n",
    "end=7\n",
    "for i in range(1,end):\n",
    "    m=KMeans(n_clusters=i, random_state=42)\n",
    "    m.fit(X_pca)\n",
    "    hy.append(m.inertia_)\n",
    "\n",
    "plt.title('24세 이하 이상지질혈증 미검사 남자')\n",
    "plt.xlabel('군집수')\n",
    "plt.axvline(2, color='red', linestyle='--')\n",
    "\n",
    "plt.plot(range(1,end), hy)\n",
    "plt.show()"
   ]
  },
  {
   "cell_type": "code",
   "execution_count": 40,
   "id": "7584ccdc-77c1-476d-938f-bdb65b7ed6b7",
   "metadata": {},
   "outputs": [
    {
     "name": "stdout",
     "output_type": "stream",
     "text": [
      "2 : 0.43568287161402686\n",
      "3 : 0.353235269857784\n",
      "4 : 0.34984924422337765\n"
     ]
    }
   ],
   "source": [
    "from sklearn.metrics import silhouette_score, silhouette_samples\n",
    "for i in range(2, 5):\n",
    "    m1 = KMeans(i, random_state=42).fit(X_pca)\n",
    "    print(i,':', silhouette_score(X_pca, m1.labels_)) "
   ]
  },
  {
   "cell_type": "code",
   "execution_count": 47,
   "id": "0ef09924-b37d-4db6-9606-1c12bf137e62",
   "metadata": {},
   "outputs": [
    {
     "name": "stdout",
     "output_type": "stream",
     "text": [
      "4 : 0.43568287161402686\n"
     ]
    }
   ],
   "source": [
    "from sklearn.metrics import silhouette_score, silhouette_samples\n",
    "\n",
    "m1 = KMeans(2, random_state=42).fit(X_pca)\n",
    "print(i,':', silhouette_score(X_pca, m1.labels_)) "
   ]
  },
  {
   "cell_type": "code",
   "execution_count": 49,
   "id": "e52131b9-3941-4dfa-866d-bf0829d64a7e",
   "metadata": {},
   "outputs": [
    {
     "data": {
      "text/plain": [
       "(8261, 2)"
      ]
     },
     "execution_count": 49,
     "metadata": {},
     "output_type": "execute_result"
    }
   ],
   "source": [
    "X_pca.shape"
   ]
  },
  {
   "cell_type": "code",
   "execution_count": 97,
   "id": "ddaecdbe-21e1-4050-ae67-4d5ef44d4acf",
   "metadata": {},
   "outputs": [
    {
     "data": {
      "image/png": "[encoded data removed]",
      "text/plain": [
       "<Figure size 600x600 with 1 Axes>"
      ]
     },
     "metadata": {},
     "output_type": "display_data"
    },
    {
     "data": {
      "image/png": "[encoded data removed]",
      "text/plain": [
       "<Figure size 600x600 with 1 Axes>"
      ]
     },
     "metadata": {},
     "output_type": "display_data"
    }
   ],
   "source": [
    "from sklearn.decomposition import PCA\n",
    "from sklearn.cluster import KMeans\n",
    "from sklearn.metrics import silhouette_samples\n",
    "import matplotlib.pyplot as plt\n",
    "import numpy as np\n",
    "\n",
    "# iM 컬러 팔레트\n",
    "im_colors = ['#00CDB3', '#C7E34F', '#2484FF', '#A15EFF', '#91DAFF', '#F5E8D7', '#9EA4AA']\n",
    "\n",
    "# 실루엣 계수 시각화 함수\n",
    "def c_s(k, df1):\n",
    "    # 1. PCA로 차원 축소\n",
    "    pca = PCA(n_components=2)\n",
    "    x_f = pca.fit_transform(df1)\n",
    "\n",
    "    # 2. KMeans 모델 적합\n",
    "    km = KMeans(n_clusters=k, random_state=10)\n",
    "    py = km.fit_predict(x_f)\n",
    "\n",
    "    # 3. 실루엣 계수 계산\n",
    "    s_v = silhouette_samples(x_f, py)\n",
    "\n",
    "    # 4. 시각화\n",
    "    y_ax_lo = 0\n",
    "    y_t = []\n",
    "\n",
    "    plt.figure(figsize=(6, 6))\n",
    "\n",
    "    for i in range(k):\n",
    "        c_s_v = s_v[py == i]\n",
    "        c_s_v.sort()\n",
    "        y_ax_up = y_ax_lo + len(c_s_v)\n",
    "\n",
    "        # iM뱅크 색 적용\n",
    "        color = im_colors[i % len(im_colors)]\n",
    "\n",
    "        plt.barh(range(y_ax_lo, y_ax_up), c_s_v, height=1, color=color)\n",
    "        y_t.append((y_ax_lo + y_ax_up) / 2.)\n",
    "        y_ax_lo = y_ax_up\n",
    "\n",
    "    s_mean = np.mean(s_v)\n",
    "    plt.axvline(s_mean, color='red', linestyle='--')\n",
    "    plt.yticks(y_t, range(k))\n",
    "    plt.xticks([0, 0.2, 0.4, 0.6, 0.8, 1])\n",
    "    plt.title(f'k_m:{k}\\ns_sc:{round(s_mean, 3)}')\n",
    "    plt.tight_layout()\n",
    "    plt.show()\n",
    "\n",
    "# 예시 실행\n",
    "c_s(2, df1)\n",
    "c_s(3, df1)"
   ]
  },
  {
   "cell_type": "code",
   "execution_count": 103,
   "id": "a295cd5b-31be-4962-a614-da2f24bac34e",
   "metadata": {},
   "outputs": [],
   "source": [
    "plt.rcParams['font.family']='Malgun Gothic'"
   ]
  },
  {
   "cell_type": "code",
   "execution_count": 105,
   "id": "7635ffe9-63ce-498e-ba42-07e7cce4fce3",
   "metadata": {},
   "outputs": [
    {
     "data": {
      "image/png": "[encoded data removed]",
      "text/plain": [
       "<Figure size 800x600 with 1 Axes>"
      ]
     },
     "metadata": {},
     "output_type": "display_data"
    }
   ],
   "source": [
    "import matplotlib.pyplot as plt\n",
    "\n",
    "# iM뱅크 색상 팔레트\n",
    "im_colors = ['#00CDB3', '#C7E34F', '#2484FF', '#A15EFF', '#91DAFF', '#F5E8D7', '#9EA4AA']\n",
    "\n",
    "# 1. 군집 결과 컬럼 추가 (이미 있다면 생략 가능)\n",
    "df['cluster'] = m1.labels_\n",
    "\n",
    "# 2. 시각화 시작\n",
    "plt.figure(figsize=(8, 6))\n",
    "\n",
    "# 3. 군집별 색상 적용 및 시각화\n",
    "for cluster in sorted(df['cluster'].unique()):\n",
    "    plt.scatter(\n",
    "        X_pca[df['cluster'] == cluster, 0],  # PCA 첫 번째 성분\n",
    "        X_pca[df['cluster'] == cluster, 1],  # PCA 두 번째 성분\n",
    "        label=f'Cluster {cluster}',\n",
    "        alpha=0.7,\n",
    "        color=im_colors[cluster % len(im_colors)]\n",
    "    )\n",
    "\n",
    "# 4. 군집 중심 (Centroids) 시각화\n",
    "centers = m1.cluster_centers_\n",
    "plt.scatter(\n",
    "    centers[:, 0], centers[:, 1],\n",
    "    c='black', s=200, marker='X', label='Centroids'\n",
    ")\n",
    "\n",
    "# 5. 스타일 마무리\n",
    "plt.title('이상지질검사 비대상 24세 이하 남성', fontsize=14)\n",
    "plt.xlabel('PCA 1')\n",
    "plt.ylabel('PCA 2')\n",
    "plt.legend()\n",
    "plt.grid(True)\n",
    "plt.tight_layout()\n",
    "plt.show()"
   ]
  },
  {
   "cell_type": "code",
   "execution_count": 70,
   "id": "f59a0843-ffa0-4708-ae64-722db052d043",
   "metadata": {},
   "outputs": [],
   "source": [
    "df = pd.read_csv(os.listdir()[3], encoding='cp949') "
   ]
  },
  {
   "cell_type": "code",
   "execution_count": 57,
   "id": "150d78d6-8a9e-416e-8029-8836b2e9c704",
   "metadata": {},
   "outputs": [
    {
     "data": {
      "text/plain": [
       "(14288, 33)"
      ]
     },
     "execution_count": 57,
     "metadata": {},
     "output_type": "execute_result"
    }
   ],
   "source": [
    "cond = (df['성별코드']==1)&(df['연령대코드(5세단위)']<=5)\n",
    "df = df[cond]\n",
    "\n",
    "df.shape"
   ]
  },
  {
   "cell_type": "code",
   "execution_count": 58,
   "id": "7dc56fcc-c5a1-43b9-ba09-25e9ec8ec799",
   "metadata": {},
   "outputs": [],
   "source": [
    "cond = df[['총콜레스테롤', '트리글리세라이드', 'HDL콜레스테롤', 'LDL콜레스테롤']].isna().any(axis=1)\n",
    "df = df[cond]"
   ]
  },
  {
   "cell_type": "code",
   "execution_count": 59,
   "id": "fd982780-0843-495d-b93e-05f6d06dfa2b",
   "metadata": {},
   "outputs": [
    {
     "data": {
      "text/plain": [
       "(8271, 33)"
      ]
     },
     "execution_count": 59,
     "metadata": {},
     "output_type": "execute_result"
    }
   ],
   "source": [
    "df.shape"
   ]
  },
  {
   "cell_type": "code",
   "execution_count": 55,
   "id": "307d6773-fe29-4030-8ef2-b70e259bfeee",
   "metadata": {},
   "outputs": [
    {
     "data": {
      "text/plain": [
       "(0, 33)"
      ]
     },
     "execution_count": 55,
     "metadata": {},
     "output_type": "execute_result"
    }
   ],
   "source": [
    "df = df.dropna()\n",
    "df.shape"
   ]
  },
  {
   "cell_type": "code",
   "execution_count": 64,
   "id": "83f8b222-36cc-479e-8198-64fa65f45445",
   "metadata": {},
   "outputs": [],
   "source": [
    "df = df.drop(columns=['총콜레스테롤', '트리글리세라이드', 'HDL콜레스테롤', 'LDL콜레스테롤','결손치 유무', '치아마모증유무' ,'제3대구치(사랑니) 이상'])"
   ]
  },
  {
   "cell_type": "code",
   "execution_count": 68,
   "id": "401d5aba-f04e-4d12-9b8f-f16bcd798f6b",
   "metadata": {},
   "outputs": [
    {
     "data": {
      "text/plain": [
       "(8271, 24)"
      ]
     },
     "execution_count": 68,
     "metadata": {},
     "output_type": "execute_result"
    }
   ],
   "source": [
    "df = df.drop(columns=['치석','치아우식증유무'])\n",
    "df.shape"
   ]
  },
  {
   "cell_type": "code",
   "execution_count": 69,
   "id": "e671b1e5-05a4-4ce1-80bc-f2f0d39f1e9d",
   "metadata": {},
   "outputs": [
    {
     "data": {
      "text/plain": [
       "(8257, 24)"
      ]
     },
     "execution_count": 69,
     "metadata": {},
     "output_type": "execute_result"
    }
   ],
   "source": [
    "df=df.dropna()\n",
    "df.shape"
   ]
  },
  {
   "cell_type": "code",
   "execution_count": 80,
   "id": "6d28fc7d-54c6-4e67-903f-86b790198f6b",
   "metadata": {},
   "outputs": [],
   "source": [
    "df['cluster'] = m1.labels_"
   ]
  },
  {
   "cell_type": "code",
   "execution_count": 81,
   "id": "fdaf1d9b-3418-41e9-a451-bb9c4ee0e833",
   "metadata": {},
   "outputs": [],
   "source": [
    "df.to_csv('24세이하남성_비검사군.csv')"
   ]
  },
  {
   "cell_type": "code",
   "execution_count": 82,
   "id": "0a460e0a-9835-4b6b-b0ab-2f6c8b34f1c8",
   "metadata": {},
   "outputs": [
    {
     "data": {
      "text/html": [
       "<style>#sk-container-id-1 {\n",
       "  /* Definition of color scheme common for light and dark mode */\n",
       "  --sklearn-color-text: black;\n",
       "  --sklearn-color-line: gray;\n",
       "  /* Definition of color scheme for unfitted estimators */\n",
       "  --sklearn-color-unfitted-level-0: #fff5e6;\n",
       "  --sklearn-color-unfitted-level-1: #f6e4d2;\n",
       "  --sklearn-color-unfitted-level-2: #ffe0b3;\n",
       "  --sklearn-color-unfitted-level-3: chocolate;\n",
       "  /* Definition of color scheme for fitted estimators */\n",
       "  --sklearn-color-fitted-level-0: #f0f8ff;\n",
       "  --sklearn-color-fitted-level-1: #d4ebff;\n",
       "  --sklearn-color-fitted-level-2: #b3dbfd;\n",
       "  --sklearn-color-fitted-level-3: cornflowerblue;\n",
       "\n",
       "  /* Specific color for light theme */\n",
       "  --sklearn-color-text-on-default-background: var(--sg-text-color, var(--theme-code-foreground, var(--jp-content-font-color1, black)));\n",
       "  --sklearn-color-background: var(--sg-background-color, var(--theme-background, var(--jp-layout-color0, white)));\n",
       "  --sklearn-color-border-box: var(--sg-text-color, var(--theme-code-foreground, var(--jp-content-font-color1, black)));\n",
       "  --sklearn-color-icon: #696969;\n",
       "\n",
       "  @media (prefers-color-scheme: dark) {\n",
       "    /* Redefinition of color scheme for dark theme */\n",
       "    --sklearn-color-text-on-default-background: var(--sg-text-color, var(--theme-code-foreground, var(--jp-content-font-color1, white)));\n",
       "    --sklearn-color-background: var(--sg-background-color, var(--theme-background, var(--jp-layout-color0, #111)));\n",
       "    --sklearn-color-border-box: var(--sg-text-color, var(--theme-code-foreground, var(--jp-content-font-color1, white)));\n",
       "    --sklearn-color-icon: #878787;\n",
       "  }\n",
       "}\n",
       "\n",
       "#sk-container-id-1 {\n",
       "  color: var(--sklearn-color-text);\n",
       "}\n",
       "\n",
       "#sk-container-id-1 pre {\n",
       "  padding: 0;\n",
       "}\n",
       "\n",
       "#sk-container-id-1 input.sk-hidden--visually {\n",
       "  border: 0;\n",
       "  clip: rect(1px 1px 1px 1px);\n",
       "  clip: rect(1px, 1px, 1px, 1px);\n",
       "  height: 1px;\n",
       "  margin: -1px;\n",
       "  overflow: hidden;\n",
       "  padding: 0;\n",
       "  position: absolute;\n",
       "  width: 1px;\n",
       "}\n",
       "\n",
       "#sk-container-id-1 div.sk-dashed-wrapped {\n",
       "  border: 1px dashed var(--sklearn-color-line);\n",
       "  margin: 0 0.4em 0.5em 0.4em;\n",
       "  box-sizing: border-box;\n",
       "  padding-bottom: 0.4em;\n",
       "  background-color: var(--sklearn-color-background);\n",
       "}\n",
       "\n",
       "#sk-container-id-1 div.sk-container {\n",
       "  /* jupyter's `normalize.less` sets `[hidden] { display: none; }`\n",
       "     but bootstrap.min.css set `[hidden] { display: none !important; }`\n",
       "     so we also need the `!important` here to be able to override the\n",
       "     default hidden behavior on the sphinx rendered scikit-learn.org.\n",
       "     See: https://github.com/scikit-learn/scikit-learn/issues/21755 */\n",
       "  display: inline-block !important;\n",
       "  position: relative;\n",
       "}\n",
       "\n",
       "#sk-container-id-1 div.sk-text-repr-fallback {\n",
       "  display: none;\n",
       "}\n",
       "\n",
       "div.sk-parallel-item,\n",
       "div.sk-serial,\n",
       "div.sk-item {\n",
       "  /* draw centered vertical line to link estimators */\n",
       "  background-image: linear-gradient(var(--sklearn-color-text-on-default-background), var(--sklearn-color-text-on-default-background));\n",
       "  background-size: 2px 100%;\n",
       "  background-repeat: no-repeat;\n",
       "  background-position: center center;\n",
       "}\n",
       "\n",
       "/* Parallel-specific style estimator block */\n",
       "\n",
       "#sk-container-id-1 div.sk-parallel-item::after {\n",
       "  content: \"\";\n",
       "  width: 100%;\n",
       "  border-bottom: 2px solid var(--sklearn-color-text-on-default-background);\n",
       "  flex-grow: 1;\n",
       "}\n",
       "\n",
       "#sk-container-id-1 div.sk-parallel {\n",
       "  display: flex;\n",
       "  align-items: stretch;\n",
       "  justify-content: center;\n",
       "  background-color: var(--sklearn-color-background);\n",
       "  position: relative;\n",
       "}\n",
       "\n",
       "#sk-container-id-1 div.sk-parallel-item {\n",
       "  display: flex;\n",
       "  flex-direction: column;\n",
       "}\n",
       "\n",
       "#sk-container-id-1 div.sk-parallel-item:first-child::after {\n",
       "  align-self: flex-end;\n",
       "  width: 50%;\n",
       "}\n",
       "\n",
       "#sk-container-id-1 div.sk-parallel-item:last-child::after {\n",
       "  align-self: flex-start;\n",
       "  width: 50%;\n",
       "}\n",
       "\n",
       "#sk-container-id-1 div.sk-parallel-item:only-child::after {\n",
       "  width: 0;\n",
       "}\n",
       "\n",
       "/* Serial-specific style estimator block */\n",
       "\n",
       "#sk-container-id-1 div.sk-serial {\n",
       "  display: flex;\n",
       "  flex-direction: column;\n",
       "  align-items: center;\n",
       "  background-color: var(--sklearn-color-background);\n",
       "  padding-right: 1em;\n",
       "  padding-left: 1em;\n",
       "}\n",
       "\n",
       "\n",
       "/* Toggleable style: style used for estimator/Pipeline/ColumnTransformer box that is\n",
       "clickable and can be expanded/collapsed.\n",
       "- Pipeline and ColumnTransformer use this feature and define the default style\n",
       "- Estimators will overwrite some part of the style using the `sk-estimator` class\n",
       "*/\n",
       "\n",
       "/* Pipeline and ColumnTransformer style (default) */\n",
       "\n",
       "#sk-container-id-1 div.sk-toggleable {\n",
       "  /* Default theme specific background. It is overwritten whether we have a\n",
       "  specific estimator or a Pipeline/ColumnTransformer */\n",
       "  background-color: var(--sklearn-color-background);\n",
       "}\n",
       "\n",
       "/* Toggleable label */\n",
       "#sk-container-id-1 label.sk-toggleable__label {\n",
       "  cursor: pointer;\n",
       "  display: block;\n",
       "  width: 100%;\n",
       "  margin-bottom: 0;\n",
       "  padding: 0.5em;\n",
       "  box-sizing: border-box;\n",
       "  text-align: center;\n",
       "}\n",
       "\n",
       "#sk-container-id-1 label.sk-toggleable__label-arrow:before {\n",
       "  /* Arrow on the left of the label */\n",
       "  content: \"▸\";\n",
       "  float: left;\n",
       "  margin-right: 0.25em;\n",
       "  color: var(--sklearn-color-icon);\n",
       "}\n",
       "\n",
       "#sk-container-id-1 label.sk-toggleable__label-arrow:hover:before {\n",
       "  color: var(--sklearn-color-text);\n",
       "}\n",
       "\n",
       "/* Toggleable content - dropdown */\n",
       "\n",
       "#sk-container-id-1 div.sk-toggleable__content {\n",
       "  max-height: 0;\n",
       "  max-width: 0;\n",
       "  overflow: hidden;\n",
       "  text-align: left;\n",
       "  /* unfitted */\n",
       "  background-color: var(--sklearn-color-unfitted-level-0);\n",
       "}\n",
       "\n",
       "#sk-container-id-1 div.sk-toggleable__content.fitted {\n",
       "  /* fitted */\n",
       "  background-color: var(--sklearn-color-fitted-level-0);\n",
       "}\n",
       "\n",
       "#sk-container-id-1 div.sk-toggleable__content pre {\n",
       "  margin: 0.2em;\n",
       "  border-radius: 0.25em;\n",
       "  color: var(--sklearn-color-text);\n",
       "  /* unfitted */\n",
       "  background-color: var(--sklearn-color-unfitted-level-0);\n",
       "}\n",
       "\n",
       "#sk-container-id-1 div.sk-toggleable__content.fitted pre {\n",
       "  /* unfitted */\n",
       "  background-color: var(--sklearn-color-fitted-level-0);\n",
       "}\n",
       "\n",
       "#sk-container-id-1 input.sk-toggleable__control:checked~div.sk-toggleable__content {\n",
       "  /* Expand drop-down */\n",
       "  max-height: 200px;\n",
       "  max-width: 100%;\n",
       "  overflow: auto;\n",
       "}\n",
       "\n",
       "#sk-container-id-1 input.sk-toggleable__control:checked~label.sk-toggleable__label-arrow:before {\n",
       "  content: \"▾\";\n",
       "}\n",
       "\n",
       "/* Pipeline/ColumnTransformer-specific style */\n",
       "\n",
       "#sk-container-id-1 div.sk-label input.sk-toggleable__control:checked~label.sk-toggleable__label {\n",
       "  color: var(--sklearn-color-text);\n",
       "  background-color: var(--sklearn-color-unfitted-level-2);\n",
       "}\n",
       "\n",
       "#sk-container-id-1 div.sk-label.fitted input.sk-toggleable__control:checked~label.sk-toggleable__label {\n",
       "  background-color: var(--sklearn-color-fitted-level-2);\n",
       "}\n",
       "\n",
       "/* Estimator-specific style */\n",
       "\n",
       "/* Colorize estimator box */\n",
       "#sk-container-id-1 div.sk-estimator input.sk-toggleable__control:checked~label.sk-toggleable__label {\n",
       "  /* unfitted */\n",
       "  background-color: var(--sklearn-color-unfitted-level-2);\n",
       "}\n",
       "\n",
       "#sk-container-id-1 div.sk-estimator.fitted input.sk-toggleable__control:checked~label.sk-toggleable__label {\n",
       "  /* fitted */\n",
       "  background-color: var(--sklearn-color-fitted-level-2);\n",
       "}\n",
       "\n",
       "#sk-container-id-1 div.sk-label label.sk-toggleable__label,\n",
       "#sk-container-id-1 div.sk-label label {\n",
       "  /* The background is the default theme color */\n",
       "  color: var(--sklearn-color-text-on-default-background);\n",
       "}\n",
       "\n",
       "/* On hover, darken the color of the background */\n",
       "#sk-container-id-1 div.sk-label:hover label.sk-toggleable__label {\n",
       "  color: var(--sklearn-color-text);\n",
       "  background-color: var(--sklearn-color-unfitted-level-2);\n",
       "}\n",
       "\n",
       "/* Label box, darken color on hover, fitted */\n",
       "#sk-container-id-1 div.sk-label.fitted:hover label.sk-toggleable__label.fitted {\n",
       "  color: var(--sklearn-color-text);\n",
       "  background-color: var(--sklearn-color-fitted-level-2);\n",
       "}\n",
       "\n",
       "/* Estimator label */\n",
       "\n",
       "#sk-container-id-1 div.sk-label label {\n",
       "  font-family: monospace;\n",
       "  font-weight: bold;\n",
       "  display: inline-block;\n",
       "  line-height: 1.2em;\n",
       "}\n",
       "\n",
       "#sk-container-id-1 div.sk-label-container {\n",
       "  text-align: center;\n",
       "}\n",
       "\n",
       "/* Estimator-specific */\n",
       "#sk-container-id-1 div.sk-estimator {\n",
       "  font-family: monospace;\n",
       "  border: 1px dotted var(--sklearn-color-border-box);\n",
       "  border-radius: 0.25em;\n",
       "  box-sizing: border-box;\n",
       "  margin-bottom: 0.5em;\n",
       "  /* unfitted */\n",
       "  background-color: var(--sklearn-color-unfitted-level-0);\n",
       "}\n",
       "\n",
       "#sk-container-id-1 div.sk-estimator.fitted {\n",
       "  /* fitted */\n",
       "  background-color: var(--sklearn-color-fitted-level-0);\n",
       "}\n",
       "\n",
       "/* on hover */\n",
       "#sk-container-id-1 div.sk-estimator:hover {\n",
       "  /* unfitted */\n",
       "  background-color: var(--sklearn-color-unfitted-level-2);\n",
       "}\n",
       "\n",
       "#sk-container-id-1 div.sk-estimator.fitted:hover {\n",
       "  /* fitted */\n",
       "  background-color: var(--sklearn-color-fitted-level-2);\n",
       "}\n",
       "\n",
       "/* Specification for estimator info (e.g. \"i\" and \"?\") */\n",
       "\n",
       "/* Common style for \"i\" and \"?\" */\n",
       "\n",
       ".sk-estimator-doc-link,\n",
       "a:link.sk-estimator-doc-link,\n",
       "a:visited.sk-estimator-doc-link {\n",
       "  float: right;\n",
       "  font-size: smaller;\n",
       "  line-height: 1em;\n",
       "  font-family: monospace;\n",
       "  background-color: var(--sklearn-color-background);\n",
       "  border-radius: 1em;\n",
       "  height: 1em;\n",
       "  width: 1em;\n",
       "  text-decoration: none !important;\n",
       "  margin-left: 1ex;\n",
       "  /* unfitted */\n",
       "  border: var(--sklearn-color-unfitted-level-1) 1pt solid;\n",
       "  color: var(--sklearn-color-unfitted-level-1);\n",
       "}\n",
       "\n",
       ".sk-estimator-doc-link.fitted,\n",
       "a:link.sk-estimator-doc-link.fitted,\n",
       "a:visited.sk-estimator-doc-link.fitted {\n",
       "  /* fitted */\n",
       "  border: var(--sklearn-color-fitted-level-1) 1pt solid;\n",
       "  color: var(--sklearn-color-fitted-level-1);\n",
       "}\n",
       "\n",
       "/* On hover */\n",
       "div.sk-estimator:hover .sk-estimator-doc-link:hover,\n",
       ".sk-estimator-doc-link:hover,\n",
       "div.sk-label-container:hover .sk-estimator-doc-link:hover,\n",
       ".sk-estimator-doc-link:hover {\n",
       "  /* unfitted */\n",
       "  background-color: var(--sklearn-color-unfitted-level-3);\n",
       "  color: var(--sklearn-color-background);\n",
       "  text-decoration: none;\n",
       "}\n",
       "\n",
       "div.sk-estimator.fitted:hover .sk-estimator-doc-link.fitted:hover,\n",
       ".sk-estimator-doc-link.fitted:hover,\n",
       "div.sk-label-container:hover .sk-estimator-doc-link.fitted:hover,\n",
       ".sk-estimator-doc-link.fitted:hover {\n",
       "  /* fitted */\n",
       "  background-color: var(--sklearn-color-fitted-level-3);\n",
       "  color: var(--sklearn-color-background);\n",
       "  text-decoration: none;\n",
       "}\n",
       "\n",
       "/* Span, style for the box shown on hovering the info icon */\n",
       ".sk-estimator-doc-link span {\n",
       "  display: none;\n",
       "  z-index: 9999;\n",
       "  position: relative;\n",
       "  font-weight: normal;\n",
       "  right: .2ex;\n",
       "  padding: .5ex;\n",
       "  margin: .5ex;\n",
       "  width: min-content;\n",
       "  min-width: 20ex;\n",
       "  max-width: 50ex;\n",
       "  color: var(--sklearn-color-text);\n",
       "  box-shadow: 2pt 2pt 4pt #999;\n",
       "  /* unfitted */\n",
       "  background: var(--sklearn-color-unfitted-level-0);\n",
       "  border: .5pt solid var(--sklearn-color-unfitted-level-3);\n",
       "}\n",
       "\n",
       ".sk-estimator-doc-link.fitted span {\n",
       "  /* fitted */\n",
       "  background: var(--sklearn-color-fitted-level-0);\n",
       "  border: var(--sklearn-color-fitted-level-3);\n",
       "}\n",
       "\n",
       ".sk-estimator-doc-link:hover span {\n",
       "  display: block;\n",
       "}\n",
       "\n",
       "/* \"?\"-specific style due to the `<a>` HTML tag */\n",
       "\n",
       "#sk-container-id-1 a.estimator_doc_link {\n",
       "  float: right;\n",
       "  font-size: 1rem;\n",
       "  line-height: 1em;\n",
       "  font-family: monospace;\n",
       "  background-color: var(--sklearn-color-background);\n",
       "  border-radius: 1rem;\n",
       "  height: 1rem;\n",
       "  width: 1rem;\n",
       "  text-decoration: none;\n",
       "  /* unfitted */\n",
       "  color: var(--sklearn-color-unfitted-level-1);\n",
       "  border: var(--sklearn-color-unfitted-level-1) 1pt solid;\n",
       "}\n",
       "\n",
       "#sk-container-id-1 a.estimator_doc_link.fitted {\n",
       "  /* fitted */\n",
       "  border: var(--sklearn-color-fitted-level-1) 1pt solid;\n",
       "  color: var(--sklearn-color-fitted-level-1);\n",
       "}\n",
       "\n",
       "/* On hover */\n",
       "#sk-container-id-1 a.estimator_doc_link:hover {\n",
       "  /* unfitted */\n",
       "  background-color: var(--sklearn-color-unfitted-level-3);\n",
       "  color: var(--sklearn-color-background);\n",
       "  text-decoration: none;\n",
       "}\n",
       "\n",
       "#sk-container-id-1 a.estimator_doc_link.fitted:hover {\n",
       "  /* fitted */\n",
       "  background-color: var(--sklearn-color-fitted-level-3);\n",
       "}\n",
       "</style><div id=\"sk-container-id-1\" class=\"sk-top-container\"><div class=\"sk-text-repr-fallback\"><pre>KMeans(n_clusters=2, random_state=42)</pre><b>In a Jupyter environment, please rerun this cell to show the HTML representation or trust the notebook. <br />On GitHub, the HTML representation is unable to render, please try loading this page with nbviewer.org.</b></div><div class=\"sk-container\" hidden><div class=\"sk-item\"><div class=\"sk-estimator fitted sk-toggleable\"><input class=\"sk-toggleable__control sk-hidden--visually\" id=\"sk-estimator-id-1\" type=\"checkbox\" checked><label for=\"sk-estimator-id-1\" class=\"sk-toggleable__label fitted sk-toggleable__label-arrow fitted\">&nbsp;&nbsp;KMeans<a class=\"sk-estimator-doc-link fitted\" rel=\"noreferrer\" target=\"_blank\" href=\"https://scikit-learn.org/1.5/modules/generated/sklearn.cluster.KMeans.html\">?<span>Documentation for KMeans</span></a><span class=\"sk-estimator-doc-link fitted\">i<span>Fitted</span></span></label><div class=\"sk-toggleable__content fitted\"><pre>KMeans(n_clusters=2, random_state=42)</pre></div> </div></div></div></div>"
      ],
      "text/plain": [
       "KMeans(n_clusters=2, random_state=42)"
      ]
     },
     "execution_count": 82,
     "metadata": {},
     "output_type": "execute_result"
    }
   ],
   "source": [
    "m1"
   ]
  },
  {
   "cell_type": "code",
   "execution_count": 83,
   "id": "4da66180-5137-4cc6-9b5c-6fd81d243e2d",
   "metadata": {},
   "outputs": [],
   "source": [
    "import pickle\n",
    "\n",
    "# 모델 저장\n",
    "with open('under24_man_kmeans_model.pkl', 'wb') as f:\n",
    "    pickle.dump(m1, f)\n"
   ]
  },
  {
   "cell_type": "code",
   "execution_count": null,
   "id": "317a0ccb-b907-4575-bfd6-a686e735cb07",
   "metadata": {},
   "outputs": [],
   "source": []
  }
 ],
 "metadata": {
  "kernelspec": {
   "display_name": "Python 3 (ipykernel)",
   "language": "python",
   "name": "python3"
  },
  "language_info": {
   "codemirror_mode": {
    "name": "ipython",
    "version": 3
   },
   "file_extension": ".py",
   "mimetype": "text/x-python",
   "name": "python",
   "nbconvert_exporter": "python",
   "pygments_lexer": "ipython3",
   "version": "3.12.7"
  }
 },
 "nbformat": 4,
 "nbformat_minor": 5
}
