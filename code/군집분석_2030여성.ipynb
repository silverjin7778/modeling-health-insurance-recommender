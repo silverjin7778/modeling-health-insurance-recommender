{
 "cells": [
  {
   "cell_type": "code",
   "execution_count": 1,
   "id": "f487186b-45f1-4399-9f9d-a05d84c07ad5",
   "metadata": {},
   "outputs": [
    {
     "data": {
      "text/plain": [
       "'C:\\\\Users\\\\samsung\\\\Desktop\\\\ml_team'"
      ]
     },
     "execution_count": 1,
     "metadata": {},
     "output_type": "execute_result"
    }
   ],
   "source": [
    "import os\n",
    "import pandas as pd \n",
    "import numpy as np\n",
    "import seaborn as sns\n",
    "import matplotlib.pyplot as plt\n",
    "import warnings\n",
    "warnings.filterwarnings('ignore')\n",
    "plt.rcParams['font.family']='Malgun Gothic'\n",
    "\n",
    "os.getcwd()"
   ]
  },
  {
   "cell_type": "code",
   "execution_count": 5,
   "id": "f62506c3-02ed-4617-a35e-5e240a887aad",
   "metadata": {},
   "outputs": [
    {
     "data": {
      "text/plain": [
       "['2030여성',\n",
       " '2030여성.zip',\n",
       " '20대초반남성.csv',\n",
       " 'ALL_chol',\n",
       " 'cho_test_결과있는사람',\n",
       " 'cluster_result.csv',\n",
       " 'cluster_result_not_cholesterol.csv',\n",
       " 'data.CSV',\n",
       " 'data2021.CSV',\n",
       " 'data2022.CSV',\n",
       " 'df_ord_gpt.csv',\n",
       " 'df_ord_KPrototypes.csv',\n",
       " 'kmeans_2030female_pipeline.pkl',\n",
       " 'my_model.pkl',\n",
       " 'new_new_cluster_pipeline4.pkl',\n",
       " 'new_new_cluster_pipeline5.pkl',\n",
       " 'new_new_new_콜레스테롤_결과있는사람2.pkl',\n",
       " 'new_new_new_콜레스테롤_결과있는사람3.pkl',\n",
       " 'new_콜레스테롤_결과있는사람.pkl',\n",
       " 'not_chol_model.pkl',\n",
       " 'real_chol_model.pkl',\n",
       " 'real_cluster.csv',\n",
       " 'X.csv',\n",
       " '국민건강보험공단_건강검진정보 사용자 매뉴얼_2023.hwpx',\n",
       " '생활패턴유형_소비지표.xlsx',\n",
       " '이상지질검사미수검자건강군집해석.csv',\n",
       " '이상지질검사미수검자군집분석_last.csv',\n",
       " '이상지질검사수검자군집결과마지막결과.csv',\n",
       " '지질검사대상인데기록없는사람',\n",
       " '콜레스테롤검사한사람.csv',\n",
       " '콜레스테롤측정안한데이터.csv',\n",
       " '콜레스테롤측정안한사람.csv',\n",
       " '클러스터링_모델_dict.pkl',\n",
       " '클러스터링_파이프라인.pkl']"
      ]
     },
     "execution_count": 5,
     "metadata": {},
     "output_type": "execute_result"
    }
   ],
   "source": [
    "os.chdir('./ml_team/data/test')\n",
    "os.listdir()"
   ]
  },
  {
   "cell_type": "code",
   "execution_count": 7,
   "id": "3c4a02c6-a129-43d3-bc2d-ca726b45a100",
   "metadata": {},
   "outputs": [],
   "source": [
    "df = pd.read_csv(os.listdir()[7], encoding='cp949') "
   ]
  },
  {
   "cell_type": "code",
   "execution_count": 8,
   "id": "ec2a4815-8d0e-4d1e-a1d5-34eac7575c57",
   "metadata": {},
   "outputs": [],
   "source": [
    "df=df[[ '성별코드', '연령대코드(5세단위)', '신장(5cm단위)',\n",
    "       '체중(5kg단위)', '허리둘레',  '수축기혈압',\n",
    "       '이완기혈압', '식전혈당(공복혈당)', '총콜레스테롤', '트리글리세라이드', 'HDL콜레스테롤', 'LDL콜레스테롤',\n",
    "       '혈색소', '요단백', '혈청크레아티닌', '혈청지오티(AST)', '혈청지피티(ALT)', '감마지티피', '흡연상태',\n",
    "       '음주여부']]"
   ]
  },
  {
   "cell_type": "code",
   "execution_count": 9,
   "id": "cd638ca0-e9de-421b-ad3a-36a0e23799a5",
   "metadata": {},
   "outputs": [],
   "source": [
    "cond = df[['총콜레스테롤', '트리글리세라이드', 'HDL콜레스테롤', 'LDL콜레스테롤']].isna().any(axis=1)\n",
    "df = df[cond]"
   ]
  },
  {
   "cell_type": "code",
   "execution_count": 10,
   "id": "5bc0da45-daa8-4b01-8dda-88dc4c62ee17",
   "metadata": {},
   "outputs": [],
   "source": [
    "cond = df['성별코드']==2\n",
    "df = df[cond]"
   ]
  },
  {
   "cell_type": "code",
   "execution_count": 11,
   "id": "6fd42992-2948-4ac4-9f3d-263f68a1290d",
   "metadata": {},
   "outputs": [
    {
     "data": {
      "text/plain": [
       "(332590, 20)"
      ]
     },
     "execution_count": 11,
     "metadata": {},
     "output_type": "execute_result"
    }
   ],
   "source": [
    "df.shape"
   ]
  },
  {
   "cell_type": "code",
   "execution_count": 12,
   "id": "9c3da26f-cadd-41f5-bb09-d057bb89f75f",
   "metadata": {},
   "outputs": [
    {
     "data": {
      "text/plain": [
       "(326107, 16)"
      ]
     },
     "execution_count": 12,
     "metadata": {},
     "output_type": "execute_result"
    }
   ],
   "source": [
    "df = df.drop(columns=['총콜레스테롤', '트리글리세라이드', 'HDL콜레스테롤', 'LDL콜레스테롤'])\n",
    "df=df.dropna()\n",
    "\n",
    "df.shape"
   ]
  },
  {
   "cell_type": "code",
   "execution_count": 13,
   "id": "a88b9301-a489-499b-bc1b-207349cb3381",
   "metadata": {},
   "outputs": [],
   "source": [
    "df.columns=['성별', '연령대', '키', '체중', '허리둘레', '수축기혈압', '이완기혈압', '공복혈당',\n",
    "            '혈색소', '요단백', '혈청크레아티닌',\n",
    "       '혈청지오티(AST)', '혈청지피티(ALT)', '감마지티피', '흡연상태', '음주여부']\n",
    "\n",
    "df['성별'] = df['성별'].map({1:0, 2:1})"
   ]
  },
  {
   "cell_type": "code",
   "execution_count": 14,
   "id": "146f2b0d-2528-4ada-88c7-06c1ba7951f3",
   "metadata": {},
   "outputs": [
    {
     "data": {
      "text/html": [
       "<div>\n",
       "<style scoped>\n",
       "    .dataframe tbody tr th:only-of-type {\n",
       "        vertical-align: middle;\n",
       "    }\n",
       "\n",
       "    .dataframe tbody tr th {\n",
       "        vertical-align: top;\n",
       "    }\n",
       "\n",
       "    .dataframe thead th {\n",
       "        text-align: right;\n",
       "    }\n",
       "</style>\n",
       "<table border=\"1\" class=\"dataframe\">\n",
       "  <thead>\n",
       "    <tr style=\"text-align: right;\">\n",
       "      <th>연령대</th>\n",
       "      <th>5</th>\n",
       "      <th>6</th>\n",
       "      <th>7</th>\n",
       "      <th>8</th>\n",
       "      <th>9</th>\n",
       "      <th>10</th>\n",
       "      <th>11</th>\n",
       "      <th>12</th>\n",
       "      <th>13</th>\n",
       "      <th>14</th>\n",
       "      <th>15</th>\n",
       "      <th>16</th>\n",
       "      <th>17</th>\n",
       "      <th>18</th>\n",
       "    </tr>\n",
       "    <tr>\n",
       "      <th>성별</th>\n",
       "      <th></th>\n",
       "      <th></th>\n",
       "      <th></th>\n",
       "      <th></th>\n",
       "      <th></th>\n",
       "      <th></th>\n",
       "      <th></th>\n",
       "      <th></th>\n",
       "      <th></th>\n",
       "      <th></th>\n",
       "      <th></th>\n",
       "      <th></th>\n",
       "      <th></th>\n",
       "      <th></th>\n",
       "    </tr>\n",
       "  </thead>\n",
       "  <tbody>\n",
       "    <tr>\n",
       "      <th>1</th>\n",
       "      <td>19511</td>\n",
       "      <td>33672</td>\n",
       "      <td>39122</td>\n",
       "      <td>29235</td>\n",
       "      <td>22973</td>\n",
       "      <td>26075</td>\n",
       "      <td>44532</td>\n",
       "      <td>32368</td>\n",
       "      <td>26243</td>\n",
       "      <td>21433</td>\n",
       "      <td>19704</td>\n",
       "      <td>5851</td>\n",
       "      <td>3566</td>\n",
       "      <td>1822</td>\n",
       "    </tr>\n",
       "  </tbody>\n",
       "</table>\n",
       "</div>"
      ],
      "text/plain": [
       "연령대     5      6      7      8      9      10     11     12     13     14  \\\n",
       "성별                                                                          \n",
       "1    19511  33672  39122  29235  22973  26075  44532  32368  26243  21433   \n",
       "\n",
       "연령대     15    16    17    18  \n",
       "성별                            \n",
       "1    19704  5851  3566  1822  "
      ]
     },
     "execution_count": 14,
     "metadata": {},
     "output_type": "execute_result"
    }
   ],
   "source": [
    "pd.crosstab(index=df['성별'], columns=df['연령대'])"
   ]
  },
  {
   "cell_type": "code",
   "execution_count": 15,
   "id": "edf1d66b-06fc-4ea3-ac80-5914d1e69389",
   "metadata": {},
   "outputs": [],
   "source": [
    "# bmi추가\n",
    "# 파생변수 bmi 생성 :  질병관리청 근거\n",
    "def bmi_category(bmi):\n",
    "    if bmi < 18.5:\n",
    "        return 1 #'저체중'\n",
    "    elif bmi < 23:\n",
    "        return 2 #'정상'\n",
    "    elif bmi < 25:\n",
    "        return 3 #'비만전단계'\n",
    "    elif bmi < 30:\n",
    "        return 4 #'비만1단계'\n",
    "    elif bmi < 35:\n",
    "        return 5 #'비만2단계'\n",
    "    else:\n",
    "        return 6 #'비만3단계'\n",
    "\n",
    "df['BMI'] = df['체중'] / ((df['키'] / 100) ** 2)\n",
    "df['BMI구분'] = df['BMI'].apply(bmi_category)\n",
    "#df = df.drop(columns='BMI',axis=1)\n",
    "\n",
    "# 입력오류 추정 인스턴스 삭제\n",
    "cond1= df['허리둘레']==999\n",
    "\n",
    "df = df.drop(index=df[cond1].index, axis=0).reset_index(drop=True)\n",
    "\n",
    "# 값이 하나 뚝 떨어져있어서 제외\n",
    "cond2= df['혈청크레아티닌']==25.0\n",
    "df = df.drop(index=df[cond1|cond2].index, axis=0).reset_index(drop=True)\n",
    "\n",
    "# 연령대 그룹 코드별 중앙 나이 추정값 매핑\n",
    "연령대_중앙값 = {\n",
    "    1: 2, 2: 7, 3: 12, 4: 17, 5: 22,\n",
    "    6: 27, 7: 32, 8: 37, 9: 42,\n",
    "    10: 47, 11: 52, 12: 57, 13: 62,\n",
    "    14: 67, 15: 72, 16: 77, 17: 82, 18: 87\n",
    "}\n",
    "\n",
    "def 사구체여과율(row):\n",
    "    creatinine = row['혈청크레아티닌']\n",
    "    group_code = row['연령대']\n",
    "\n",
    "    # 연령대 매핑 확인\n",
    "    if group_code not in 연령대_중앙값:\n",
    "        return np.nan  # 알 수 없는 연령대면 NaN\n",
    "\n",
    "    age = 연령대_중앙값[group_code]\n",
    "    sex_factor = 0.742 if row['성별'] == 1 else 1  # 여성=1, 남성=0\n",
    "\n",
    "    # MDRD 공식 계산\n",
    "    egfr = 186 * (creatinine ** -1.154) * (age ** -0.203) * sex_factor\n",
    "    return egfr\n",
    "\n",
    "df['사구체여과율']= df.apply(사구체여과율, axis=1)\n",
    "\n",
    "\n",
    "def 신장질환판단(row):\n",
    "    gap = row['사구체여과율']\n",
    "    if gap>=90: return '정상'\n",
    "    elif gap>=60: return '신장기능 감소 시작'\n",
    "    elif gap>=30: return '신장기능이 더욱 감소' \n",
    "    elif gap>=15: return '생명만 유지할 수준' \n",
    "    else : return '신장 이식 필요'\n",
    "df['신장질환군']=df.apply(신장질환판단, axis=1)\n",
    "df['신장질환군'].value_counts()\n",
    "# [정상, 신장기능 감소 시작,신장기능이 더욱 감소,생명만 유지할 수준,신장 이식 필요]\n",
    "\n",
    "# 신장질환은 사구체여과율, 요단백, 혈청크레아티닌 근거로 함\n",
    "# 요단백은  전날 고지방식 육식, 고당질의 음식 등 식이적인 요인과 격렬한 운동, 급격한 스트레스 등으로 인해서도 양성반응을 보일 수 있으므로 제외함\n",
    "# 요단백은 변수가 크다고 판단하였음\n",
    "\n",
    "def 간질환판단(row):\n",
    "    ast = row['혈청지오티(AST)']\n",
    "    alt = row['혈청지피티(ALT)']\n",
    "    gtp = row['감마지티피']\n",
    "\n",
    "    # 간 효소 중 1개라도 정상 범위 초과 시 간기능 이상 의심\n",
    "    if ast >= 40 or alt >= 40 or gtp > (63 if row['성별'] == 0 else 35):\n",
    "        return 1  # 이상\n",
    "    else:\n",
    "        return 0  # 정상\n",
    "        \n",
    "df['간질환군']=df.apply(간질환판단, axis=1)\n",
    "df['간질환군'].value_counts()\n",
    "\n",
    "# 보건소 근거\n",
    "# 고혈압 합병증 : 뇌, 신장, 눈, 심\n",
    "\n",
    "def 혈압판단(row):\n",
    "    수축기 = row['수축기혈압']\n",
    "    이완기 = row['이완기혈압']\n",
    "\n",
    "    if 수축기 >= 140 or 이완기 >= 90:\n",
    "        return '고혈압 의심'\n",
    "    elif 수축기 >= 120 or 이완기 >= 80:\n",
    "        return '고혈압 전단계'\n",
    "    else:\n",
    "        return '정상 혈압'\n",
    "\n",
    "df['고혈압군'] = df.apply(혈압판단, axis=1)\n",
    "df['고혈압군'].value_counts()\n",
    "\n",
    "def 빈혈판단(row):\n",
    "    hb = row['혈색소']\n",
    "    gender = row['성별']\n",
    "\n",
    "    if gender == 0:\n",
    "        return 0 if 16.5>=hb >= 13 else 1\n",
    "    elif gender == 1:\n",
    "        return 0 if 15.5>=hb >= 12 else 1\n",
    "    else:\n",
    "        return '성별 오류'\n",
    "df['빈혈군'] = df.apply(빈혈판단, axis=1)\n",
    "df['빈혈군'].value_counts()\n",
    "\n",
    "def 당뇨판단(row):\n",
    "    혈당 = row['공복혈당']\n",
    "    if 혈당>=126: return '당뇨병 의심'\n",
    "    if 혈당 >= 100: return '공복혈당장애 의심'\n",
    "    else : return '정상혈당'\n",
    "\n",
    "df['당뇨군'] = df.apply(당뇨판단, axis=1)\n",
    "df['당뇨군'].value_counts()\n",
    "\n",
    "# #['정상혈당','공복혈당장애 의심','당뇨병 의심']\n",
    "\n",
    "# def 이상지질혈증판단(row):\n",
    "#     if (\n",
    "#         row['총콜레스테롤'] > 250 or\n",
    "#         row['총콜레스테롤'] < 150 or\n",
    "#         row['HDL콜레스테롤'] > 65 or\n",
    "#         row['HDL콜레스테롤'] < 30  or\n",
    "#         row['트리글리세라이드'] > 135 or\n",
    "#         row['트리글리세라이드'] < 30 or\n",
    "#         row['LDL콜레스테롤'] >= 170\n",
    "#     ):\n",
    "#         return 1  # 이상지질혈증 의심\n",
    "#     else:\n",
    "#         return 0  # 정상\n",
    "\n",
    "# df['이상지질혈증군'] = df.apply(이상지질혈증판단, axis=1)\n",
    "# df['이상지질혈증군'].value_counts()\n",
    "\n",
    "def categorize_age(age):\n",
    "    if age in [5, 6]:\n",
    "        return '20대'\n",
    "    elif age in [7, 8]:\n",
    "        return '30대'\n",
    "    elif age in [9, 10]:\n",
    "        return '40대'\n",
    "    elif age in [11, 12]:\n",
    "        return '50대'\n",
    "    elif age in [1, 2, 3, 4]:\n",
    "        return '미성년자'\n",
    "    else:\n",
    "        return '60대이상'\n",
    "\n",
    "df['연령대'] = df['연령대'].map(categorize_age)\n",
    "\n",
    "# 허리둘레 480cm 제거 -> 최댓값 160cm\n",
    "# 공복혈당 500, 600은 당뇨 환자에게 관측되는 수치로 700 이상 제거\n",
    "cond1 = df['허리둘레'] == 480\n",
    "cond2 = df['공복혈당'] > 700\n",
    "cond3 = df['혈청크레아티닌'] > 350\n",
    "cond4 = df['혈청지오티(AST)'] > 3000\n",
    "cond5 = df['혈청지피티(ALT)'] > 5000\n",
    "cond6 = df['감마지티피'] > 8000\n",
    "\n",
    "# 콜레스테롤 측정 안 된 집단과 공통된 기준 또는 분포에서 너무 떨어진 값만 제거 \n",
    "\n",
    "df = df[~(cond1 | cond2 | cond3 | cond4 | cond5 | cond6)]\n"
   ]
  },
  {
   "cell_type": "code",
   "execution_count": 16,
   "id": "c4083603-7676-405d-965c-57aff917dbea",
   "metadata": {},
   "outputs": [],
   "source": [
    "df = df.drop(columns='성별')"
   ]
  },
  {
   "cell_type": "code",
   "execution_count": 17,
   "id": "bec22984-e7ae-43e4-86e5-ca4b83c595ee",
   "metadata": {},
   "outputs": [
    {
     "name": "stdout",
     "output_type": "stream",
     "text": [
      "연령대 : ['20대' '60대이상' '30대' '40대' '50대']\n",
      "키 : [170 155 150 165 160 145 180 140 175 135 130 185]\n",
      "요단백 : [1. 2. 5. 3. 4. 6.]\n",
      "흡연상태 : [1. 3. 2.]\n",
      "음주여부 : [1. 0.]\n",
      "BMI구분 : [1 2 4 3 5 6]\n",
      "신장질환군 : ['정상' '신장기능 감소 시작' '신장기능이 더욱 감소' '생명만 유지할 수준' '신장 이식 필요']\n",
      "간질환군 : [0 1]\n",
      "고혈압군 : ['정상 혈압' '고혈압 전단계' '고혈압 의심']\n",
      "빈혈군 : [0 1]\n",
      "당뇨군 : ['정상혈당' '공복혈당장애 의심' '당뇨병 의심']\n"
     ]
    }
   ],
   "source": [
    "scale_col = []\n",
    "for col in df.columns:\n",
    "    if df[col].nunique()<20:\n",
    "        if df[col].nunique() >2:\n",
    "            scale_col.append(col)\n",
    "        print(col,':',df[col].unique())\n",
    "    else : scale_col.append(col)"
   ]
  },
  {
   "cell_type": "code",
   "execution_count": 18,
   "id": "b76138c9-16e8-472d-942d-284843562ae9",
   "metadata": {},
   "outputs": [],
   "source": [
    "from sklearn.preprocessing import OrdinalEncoder\n",
    "\n",
    "# 인코딩 대상 컬럼\n",
    "ordinal_cols = ['연령대', '요단백', '흡연상태', 'BMI구분', '신장질환군', '고혈압군', '당뇨군']\n",
    "\n",
    "ordinal_categories = [\n",
    "    ['20대', '30대', '40대', '50대', '60대이상'],                        # 연령대\n",
    "    [1., 2., 3., 4., 5., 6.],                                           # 요단백\n",
    "    [1., 2., 3.],                                                       # 흡연상태\n",
    "    [1, 2, 3, 4, 5, 6],                                                 # BMI구분\n",
    "    ['정상', '신장기능 감소 시작', '신장기능이 더욱 감소', '생명만 유지할 수준', '신장 이식 필요'],  # 신장질환군\n",
    "    ['정상 혈압', '고혈압 전단계', '고혈압 의심'],                         # 고혈압군\n",
    "    ['정상혈당', '공복혈당장애 의심', '당뇨병 의심']                       # 당뇨군\n",
    "]\n",
    "\n",
    "# 오디너리 인코더 적용\n",
    "encoder = OrdinalEncoder(categories=ordinal_categories)\n",
    "df[ordinal_cols] = encoder.fit_transform(df[ordinal_cols])"
   ]
  },
  {
   "cell_type": "code",
   "execution_count": 19,
   "id": "7f65226c-cabe-4d94-9bd4-d177c95fa95d",
   "metadata": {},
   "outputs": [
    {
     "data": {
      "text/html": [
       "<div>\n",
       "<style scoped>\n",
       "    .dataframe tbody tr th:only-of-type {\n",
       "        vertical-align: middle;\n",
       "    }\n",
       "\n",
       "    .dataframe tbody tr th {\n",
       "        vertical-align: top;\n",
       "    }\n",
       "\n",
       "    .dataframe thead th {\n",
       "        text-align: right;\n",
       "    }\n",
       "</style>\n",
       "<table border=\"1\" class=\"dataframe\">\n",
       "  <thead>\n",
       "    <tr style=\"text-align: right;\">\n",
       "      <th></th>\n",
       "      <th>연령대</th>\n",
       "      <th>키</th>\n",
       "      <th>체중</th>\n",
       "      <th>허리둘레</th>\n",
       "      <th>수축기혈압</th>\n",
       "      <th>이완기혈압</th>\n",
       "      <th>공복혈당</th>\n",
       "      <th>혈색소</th>\n",
       "      <th>요단백</th>\n",
       "      <th>혈청크레아티닌</th>\n",
       "      <th>...</th>\n",
       "      <th>흡연상태</th>\n",
       "      <th>음주여부</th>\n",
       "      <th>BMI</th>\n",
       "      <th>BMI구분</th>\n",
       "      <th>사구체여과율</th>\n",
       "      <th>신장질환군</th>\n",
       "      <th>간질환군</th>\n",
       "      <th>고혈압군</th>\n",
       "      <th>빈혈군</th>\n",
       "      <th>당뇨군</th>\n",
       "    </tr>\n",
       "  </thead>\n",
       "  <tbody>\n",
       "    <tr>\n",
       "      <th>0</th>\n",
       "      <td>-1.532028</td>\n",
       "      <td>2.109265</td>\n",
       "      <td>-0.613522</td>\n",
       "      <td>-0.644416</td>\n",
       "      <td>-1.821253</td>\n",
       "      <td>-1.262593</td>\n",
       "      <td>-0.187332</td>\n",
       "      <td>-0.870193</td>\n",
       "      <td>-0.271044</td>\n",
       "      <td>-0.484241</td>\n",
       "      <td>...</td>\n",
       "      <td>-0.276347</td>\n",
       "      <td>1.0</td>\n",
       "      <td>-1.414891</td>\n",
       "      <td>-1.486999</td>\n",
       "      <td>1.165679</td>\n",
       "      <td>-0.676853</td>\n",
       "      <td>0</td>\n",
       "      <td>-0.870726</td>\n",
       "      <td>0</td>\n",
       "      <td>-0.599339</td>\n",
       "    </tr>\n",
       "    <tr>\n",
       "      <th>1</th>\n",
       "      <td>-1.532028</td>\n",
       "      <td>-0.236452</td>\n",
       "      <td>-0.135476</td>\n",
       "      <td>-0.120679</td>\n",
       "      <td>-0.680254</td>\n",
       "      <td>-0.566094</td>\n",
       "      <td>-0.343133</td>\n",
       "      <td>0.462482</td>\n",
       "      <td>-0.271044</td>\n",
       "      <td>-0.484241</td>\n",
       "      <td>...</td>\n",
       "      <td>-0.276347</td>\n",
       "      <td>1.0</td>\n",
       "      <td>-0.035860</td>\n",
       "      <td>-0.579463</td>\n",
       "      <td>0.962581</td>\n",
       "      <td>-0.676853</td>\n",
       "      <td>0</td>\n",
       "      <td>-0.870726</td>\n",
       "      <td>0</td>\n",
       "      <td>-0.599339</td>\n",
       "    </tr>\n",
       "    <tr>\n",
       "      <th>2</th>\n",
       "      <td>1.276176</td>\n",
       "      <td>-1.018357</td>\n",
       "      <td>-0.613522</td>\n",
       "      <td>-0.060248</td>\n",
       "      <td>-0.613136</td>\n",
       "      <td>-0.267594</td>\n",
       "      <td>-0.758602</td>\n",
       "      <td>1.173242</td>\n",
       "      <td>-0.271044</td>\n",
       "      <td>-0.484241</td>\n",
       "      <td>...</td>\n",
       "      <td>-0.276347</td>\n",
       "      <td>0.0</td>\n",
       "      <td>-0.201241</td>\n",
       "      <td>-0.579463</td>\n",
       "      <td>0.219635</td>\n",
       "      <td>-0.676853</td>\n",
       "      <td>0</td>\n",
       "      <td>-0.870726</td>\n",
       "      <td>0</td>\n",
       "      <td>-0.599339</td>\n",
       "    </tr>\n",
       "    <tr>\n",
       "      <th>3</th>\n",
       "      <td>1.276176</td>\n",
       "      <td>-1.018357</td>\n",
       "      <td>-0.613522</td>\n",
       "      <td>0.463488</td>\n",
       "      <td>-0.613136</td>\n",
       "      <td>-1.262593</td>\n",
       "      <td>-0.498934</td>\n",
       "      <td>-1.225573</td>\n",
       "      <td>-0.271044</td>\n",
       "      <td>-0.018544</td>\n",
       "      <td>...</td>\n",
       "      <td>-0.276347</td>\n",
       "      <td>0.0</td>\n",
       "      <td>-0.201241</td>\n",
       "      <td>-0.579463</td>\n",
       "      <td>-0.540139</td>\n",
       "      <td>1.183110</td>\n",
       "      <td>0</td>\n",
       "      <td>-0.870726</td>\n",
       "      <td>1</td>\n",
       "      <td>-0.599339</td>\n",
       "    </tr>\n",
       "    <tr>\n",
       "      <th>4</th>\n",
       "      <td>-0.829977</td>\n",
       "      <td>-0.236452</td>\n",
       "      <td>1.298664</td>\n",
       "      <td>1.752686</td>\n",
       "      <td>-0.009078</td>\n",
       "      <td>0.926405</td>\n",
       "      <td>-0.447000</td>\n",
       "      <td>-0.781348</td>\n",
       "      <td>-0.271044</td>\n",
       "      <td>-0.484241</td>\n",
       "      <td>...</td>\n",
       "      <td>-0.276347</td>\n",
       "      <td>1.0</td>\n",
       "      <td>1.503894</td>\n",
       "      <td>1.235611</td>\n",
       "      <td>0.666141</td>\n",
       "      <td>-0.676853</td>\n",
       "      <td>0</td>\n",
       "      <td>0.627856</td>\n",
       "      <td>0</td>\n",
       "      <td>-0.599339</td>\n",
       "    </tr>\n",
       "  </tbody>\n",
       "</table>\n",
       "<p>5 rows × 23 columns</p>\n",
       "</div>"
      ],
      "text/plain": [
       "        연령대         키        체중      허리둘레     수축기혈압     이완기혈압      공복혈당  \\\n",
       "0 -1.532028  2.109265 -0.613522 -0.644416 -1.821253 -1.262593 -0.187332   \n",
       "1 -1.532028 -0.236452 -0.135476 -0.120679 -0.680254 -0.566094 -0.343133   \n",
       "2  1.276176 -1.018357 -0.613522 -0.060248 -0.613136 -0.267594 -0.758602   \n",
       "3  1.276176 -1.018357 -0.613522  0.463488 -0.613136 -1.262593 -0.498934   \n",
       "4 -0.829977 -0.236452  1.298664  1.752686 -0.009078  0.926405 -0.447000   \n",
       "\n",
       "        혈색소       요단백   혈청크레아티닌  ...      흡연상태  음주여부       BMI     BMI구분  \\\n",
       "0 -0.870193 -0.271044 -0.484241  ... -0.276347   1.0 -1.414891 -1.486999   \n",
       "1  0.462482 -0.271044 -0.484241  ... -0.276347   1.0 -0.035860 -0.579463   \n",
       "2  1.173242 -0.271044 -0.484241  ... -0.276347   0.0 -0.201241 -0.579463   \n",
       "3 -1.225573 -0.271044 -0.018544  ... -0.276347   0.0 -0.201241 -0.579463   \n",
       "4 -0.781348 -0.271044 -0.484241  ... -0.276347   1.0  1.503894  1.235611   \n",
       "\n",
       "     사구체여과율     신장질환군  간질환군      고혈압군  빈혈군       당뇨군  \n",
       "0  1.165679 -0.676853     0 -0.870726    0 -0.599339  \n",
       "1  0.962581 -0.676853     0 -0.870726    0 -0.599339  \n",
       "2  0.219635 -0.676853     0 -0.870726    0 -0.599339  \n",
       "3 -0.540139  1.183110     0 -0.870726    1 -0.599339  \n",
       "4  0.666141 -0.676853     0  0.627856    0 -0.599339  \n",
       "\n",
       "[5 rows x 23 columns]"
      ]
     },
     "execution_count": 19,
     "metadata": {},
     "output_type": "execute_result"
    }
   ],
   "source": [
    "from sklearn.preprocessing import StandardScaler\n",
    "\n",
    "scaler = StandardScaler()\n",
    "df[scale_col] = scaler.fit_transform(df[scale_col])\n",
    "df.head()"
   ]
  },
  {
   "cell_type": "code",
   "execution_count": 26,
   "id": "9e268374-9172-46ad-88ba-cf9a415d0a0e",
   "metadata": {},
   "outputs": [],
   "source": [
    "col=['연령대', '허리둘레', '수축기혈압','공복혈당',\n",
    "        '혈청크레아티닌',\n",
    "       '혈청지오티(AST)', '혈청지피티(ALT)', '감마지티피', '흡연상태', '음주여부', 'BMI'\n",
    "     #, 'BMI구분',\n",
    "      , '사구체여과율']\n",
    "df1=df[col]"
   ]
  },
  {
   "cell_type": "code",
   "execution_count": 27,
   "id": "8cf12779-ba12-42ab-b0e2-16c35275e500",
   "metadata": {},
   "outputs": [
    {
     "data": {
      "image/png": "[encoded data removed]",
      "text/plain": [
       "<Figure size 640x480 with 1 Axes>"
      ]
     },
     "metadata": {},
     "output_type": "display_data"
    }
   ],
   "source": [
    "from sklearn.cluster import KMeans \n",
    "from sklearn.decomposition import PCA\n",
    "\n",
    "# PCA (2차원으로 줄이기)\n",
    "pca = PCA(n_components=2)\n",
    "X_pca = pca.fit_transform(df)\n",
    "\n",
    "# ▶ 5. KMeans 클러스터링 (클러스터 수는 예시로 3개)\n",
    "hy=[]\n",
    "end=10\n",
    "for i in range(1,end):\n",
    "    m=KMeans(n_clusters=i, random_state=42)\n",
    "    m.fit(df1)\n",
    "    hy.append(m.inertia_)\n",
    "\n",
    "plt.title('모든 피처 2030여성 엘보우 그래프')\n",
    "plt.xlabel('군집수')\n",
    "plt.plot(range(1,end), hy)\n",
    "plt.show()"
   ]
  },
  {
   "cell_type": "code",
   "execution_count": null,
   "id": "04cacba0-797b-42f9-b4ca-4e584dcbef09",
   "metadata": {},
   "outputs": [
    {
     "name": "stdout",
     "output_type": "stream",
     "text": [
      "2 : 0.3799570000514332\n",
      "3 : 0.2297113786914887\n"
     ]
    },
    {
     "name": "stderr",
     "output_type": "stream",
     "text": [
      "\n",
      "KeyboardInterrupt\n",
      "\n"
     ]
    }
   ],
   "source": [
    "from sklearn.metrics import silhouette_score, silhouette_samples\n",
    "for i in range(2, 6):\n",
    "    m1 = KMeans(i, random_state=42).fit(df)\n",
    "    print(i,':', silhouette_score(X_pca, m1.labels_)) "
   ]
  },
  {
   "cell_type": "code",
   "execution_count": 29,
   "id": "4a02fa57-cfc2-48c6-b7f4-3cc09fd27e3e",
   "metadata": {},
   "outputs": [
    {
     "data": {
      "image/png": "[encoded data removed]",
      "text/plain": [
       "<Figure size 640x480 with 1 Axes>"
      ]
     },
     "metadata": {},
     "output_type": "display_data"
    }
   ],
   "source": [
    "from sklearn.cluster import KMeans \n",
    "from sklearn.decomposition import PCA\n",
    "\n",
    "# PCA (2차원으로 줄이기)\n",
    "pca = PCA(n_components=2)\n",
    "X_pca = pca.fit_transform(df1)\n",
    "\n",
    "# ▶ 5. KMeans 클러스터링 (클러스터 수는 예시로 3개)\n",
    "hy=[]\n",
    "end=10\n",
    "for i in range(1,end):\n",
    "    m=KMeans(n_clusters=i, random_state=42)\n",
    "    m.fit(df1)\n",
    "    hy.append(m.inertia_)\n",
    "\n",
    "plt.title('이상지질혈증 미검사 2030 여성')\n",
    "plt.xlabel('군집수')\n",
    "plt.axvline(3, color='red', linestyle='--')\n",
    "plt.plot(range(1,end), hy)\n",
    "plt.show()"
   ]
  },
  {
   "cell_type": "code",
   "execution_count": 33,
   "id": "77640f45-d139-4e22-b6f5-072e9624c262",
   "metadata": {},
   "outputs": [
    {
     "name": "stdout",
     "output_type": "stream",
     "text": [
      "2 : 0.4255143583424594\n",
      "3 : 0.4305450358170975\n",
      "4 : 0.26526110629147914\n",
      "5 : 0.1784646908405579\n"
     ]
    }
   ],
   "source": [
    "from sklearn.metrics import silhouette_score, silhouette_samples\n",
    "for i in range(2, 6):\n",
    "    m1 = KMeans(i, random_state=42).fit(df1)\n",
    "    print(i,':', silhouette_score(X_pca, m1.labels_)) "
   ]
  },
  {
   "cell_type": "code",
   "execution_count": 30,
   "id": "ece19e61-a0b3-46b0-8319-90d649ab7995",
   "metadata": {},
   "outputs": [
    {
     "data": {
      "image/png": "[encoded data removed]",
      "text/plain": [
       "<Figure size 640x480 with 1 Axes>"
      ]
     },
     "metadata": {},
     "output_type": "display_data"
    }
   ],
   "source": [
    "from sklearn.cluster import KMeans \n",
    "from sklearn.decomposition import PCA\n",
    "\n",
    "# PCA (2차원으로 줄이기)\n",
    "pca = PCA(n_components=2)\n",
    "X_pca = pca.fit_transform(df1)\n",
    "\n",
    "# ▶ 5. KMeans 클러스터링 (클러스터 수는 예시로 3개)\n",
    "hy=[]\n",
    "end=10\n",
    "for i in range(1,end):\n",
    "    m=KMeans(n_clusters=i, random_state=42)\n",
    "    m.fit(X_pca)\n",
    "    hy.append(m.inertia_)\n",
    "\n",
    "plt.title('이상지질혈증 미검사 2030 여성(pca까지)')\n",
    "plt.xlabel('군집수')\n",
    "plt.axvline(3, color='red', linestyle='--')\n",
    "plt.plot(range(1,end), hy)\n",
    "plt.show()"
   ]
  },
  {
   "cell_type": "code",
   "execution_count": 23,
   "id": "fb7f7d2a-7c3e-46e2-9983-196137f9fa75",
   "metadata": {},
   "outputs": [
    {
     "name": "stdout",
     "output_type": "stream",
     "text": [
      "2 : 0.4340748660150134\n",
      "3 : 0.43934896157086817\n",
      "4 : 0.3560190545696868\n",
      "5 : 0.35964069220810213\n"
     ]
    }
   ],
   "source": [
    "from sklearn.metrics import silhouette_score, silhouette_samples\n",
    "for i in range(2, 6):\n",
    "    m1 = KMeans(i, random_state=42).fit(X_pca)\n",
    "    print(i,':', silhouette_score(X_pca, m1.labels_)) "
   ]
  },
  {
   "cell_type": "code",
   "execution_count": 24,
   "id": "e7697843-3c1b-4783-b2fb-860289155b7d",
   "metadata": {},
   "outputs": [
    {
     "data": {
      "text/plain": [
       "연령대\n",
       " 1.276176    78619\n",
       " 0.574125    76899\n",
       "-0.829977    68352\n",
       "-1.532028    53182\n",
       "-0.127926    49048\n",
       "Name: count, dtype: int64"
      ]
     },
     "execution_count": 24,
     "metadata": {},
     "output_type": "execute_result"
    }
   ],
   "source": [
    "df['연령대'].value_counts()"
   ]
  },
  {
   "cell_type": "code",
   "execution_count": 87,
   "id": "35756d82-41d3-470c-9afc-e46582557373",
   "metadata": {},
   "outputs": [],
   "source": [
    "m1 = KMeans(3, random_state=42).fit(X_pca)"
   ]
  },
  {
   "cell_type": "code",
   "execution_count": 90,
   "id": "7dc08915-50cc-4fc6-9e75-85ec6e09022e",
   "metadata": {},
   "outputs": [
    {
     "data": {
      "image/png": "[encoded data removed]",
      "text/plain": [
       "<Figure size 600x600 with 1 Axes>"
      ]
     },
     "metadata": {},
     "output_type": "display_data"
    },
    {
     "data": {
      "image/png": "[encoded data removed]",
      "text/plain": [
       "<Figure size 600x600 with 1 Axes>"
      ]
     },
     "metadata": {},
     "output_type": "display_data"
    }
   ],
   "source": [
    "from sklearn.decomposition import PCA\n",
    "from sklearn.cluster import KMeans\n",
    "from sklearn.metrics import silhouette_samples\n",
    "import matplotlib.pyplot as plt\n",
    "import numpy as np\n",
    "\n",
    "# iM 컬러 팔레트\n",
    "im_colors = ['#00CDB3', '#C7E34F', '#2484FF', '#A15EFF', '#91DAFF', '#F5E8D7', '#9EA4AA']\n",
    "\n",
    "# 실루엣 계수 시각화 함수\n",
    "def c_s(k, df1):\n",
    "    # 1. PCA로 차원 축소\n",
    "    pca = PCA(n_components=2)\n",
    "    x_f = pca.fit_transform(df1)\n",
    "\n",
    "    # 2. KMeans 모델 적합\n",
    "    km = KMeans(n_clusters=k, random_state=10)\n",
    "    py = km.fit_predict(x_f)\n",
    "\n",
    "    # 3. 실루엣 계수 계산\n",
    "    s_v = silhouette_samples(x_f, py)\n",
    "\n",
    "    # 4. 시각화\n",
    "    y_ax_lo = 0\n",
    "    y_t = []\n",
    "\n",
    "    plt.figure(figsize=(6, 6))\n",
    "\n",
    "    for i in range(k):\n",
    "        c_s_v = s_v[py == i]\n",
    "        c_s_v.sort()\n",
    "        y_ax_up = y_ax_lo + len(c_s_v)\n",
    "\n",
    "        # iM뱅크 색 적용\n",
    "        color = im_colors[i % len(im_colors)]\n",
    "\n",
    "        plt.barh(range(y_ax_lo, y_ax_up), c_s_v, height=1, color=color)\n",
    "        y_t.append((y_ax_lo + y_ax_up) / 2.)\n",
    "        y_ax_lo = y_ax_up\n",
    "\n",
    "    s_mean = np.mean(s_v)\n",
    "    plt.axvline(s_mean, color='red', linestyle='--')\n",
    "    plt.yticks(y_t, range(k))\n",
    "    plt.xticks([0, 0.2, 0.4, 0.6, 0.8, 1])\n",
    "    plt.title(f'k_m:{k}\\ns_sc:{round(s_mean, 3)}')\n",
    "    plt.tight_layout()\n",
    "    plt.show()\n",
    "\n",
    "# 예시 실행\n",
    "c_s(2, df1)\n",
    "c_s(3, df1)"
   ]
  },
  {
   "cell_type": "code",
   "execution_count": 89,
   "id": "94fce151-0bb2-4bc6-9009-8b99c2911940",
   "metadata": {},
   "outputs": [
    {
     "data": {
      "image/png": "[encoded data removed]",
      "text/plain": [
       "<Figure size 800x600 with 1 Axes>"
      ]
     },
     "metadata": {},
     "output_type": "display_data"
    }
   ],
   "source": [
    "import matplotlib.pyplot as plt\n",
    "\n",
    "# iM뱅크 색상 팔레트\n",
    "im_colors = ['#00CDB3', '#C7E34F', '#2484FF', '#A15EFF', '#91DAFF', '#F5E8D7', '#9EA4AA']\n",
    "\n",
    "# 1. 군집 결과 컬럼 추가 (이미 있다면 생략 가능)\n",
    "df1['cluster'] = m1.labels_\n",
    "\n",
    "# 2. 시각화 시작\n",
    "plt.figure(figsize=(8, 6))\n",
    "\n",
    "# 3. 군집별 색상 적용 및 시각화\n",
    "for cluster in sorted(df1['cluster'].unique()):\n",
    "    plt.scatter(\n",
    "        X_pca[df1['cluster'] == cluster, 0],  # PCA 첫 번째 성분\n",
    "        X_pca[df1['cluster'] == cluster, 1],  # PCA 두 번째 성분\n",
    "        label=f'Cluster {cluster}',\n",
    "        alpha=0.7,\n",
    "        color=im_colors[cluster % len(im_colors)]\n",
    "    )\n",
    "\n",
    "# 4. 군집 중심 (Centroids) 시각화\n",
    "centers = m1.cluster_centers_\n",
    "plt.scatter(\n",
    "    centers[:, 0], centers[:, 1],\n",
    "    c='black', s=200, marker='X', label='Centroids'\n",
    ")\n",
    "\n",
    "# 5. 스타일 마무리\n",
    "plt.title('이상지질검사 비대상 2030 여성', fontsize=14)\n",
    "plt.xlabel('PCA 1')\n",
    "plt.ylabel('PCA 2')\n",
    "plt.legend()\n",
    "plt.grid(True)\n",
    "plt.tight_layout()\n",
    "plt.show()"
   ]
  },
  {
   "cell_type": "code",
   "execution_count": null,
   "id": "86f1a85c-265a-4e82-a566-6899e1e340df",
   "metadata": {},
   "outputs": [],
   "source": []
  }
 ],
 "metadata": {
  "kernelspec": {
   "display_name": "Python 3 (ipykernel)",
   "language": "python",
   "name": "python3"
  },
  "language_info": {
   "codemirror_mode": {
    "name": "ipython",
    "version": 3
   },
   "file_extension": ".py",
   "mimetype": "text/x-python",
   "name": "python",
   "nbconvert_exporter": "python",
   "pygments_lexer": "ipython3",
   "version": "3.12.7"
  }
 },
 "nbformat": 4,
 "nbformat_minor": 5
}
